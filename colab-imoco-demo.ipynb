{
  "nbformat": 4,
  "nbformat_minor": 0,
  "metadata": {
    "colab": {
      "name": "Untitled0.ipynb",
      "provenance": [],
      "toc_visible": true,
      "include_colab_link": true
    },
    "kernelspec": {
      "name": "python3",
      "display_name": "Python 3"
    },
    "accelerator": "GPU"
  },
  "cells": [
    {
      "cell_type": "markdown",
      "metadata": {
        "id": "view-in-github",
        "colab_type": "text"
      },
      "source": [
        "<a href=\"https://colab.research.google.com/github/Phillistan16/imoco_recon/blob/colab_demo/colab-imoco-demo.ipynb\" target=\"_parent\"><img src=\"https://colab.research.google.com/assets/colab-badge.svg\" alt=\"Open In Colab\"/></a>"
      ]
    },
    {
      "cell_type": "markdown",
      "metadata": {
        "id": "REKipt04s_R_",
        "colab_type": "text"
      },
      "source": [
        "# iterative Motion Compensation (iMoCo) Reconstruction Demo\n",
        "This CoLab notebook is a demo of the iMoCo method\n",
        "https://onlinelibrary.wiley.com/doi/full/10.1002/mrm.27998\n",
        "https://github.com/PulmonaryMRI/imoco_recon\n"
      ]
    },
    {
      "cell_type": "markdown",
      "metadata": {
        "id": "YGOlMnLD8oxb",
        "colab_type": "text"
      },
      "source": [
        "# Setup\n",
        "\n",
        "<!-- By default, this colab notebook should have a GPU runtime environment. To check this, go to **Runtime > Change runtime type** and see if **GPU** is selected as **Hardware accelerator**. -->\n",
        "\n",
        "To setup, we will install [SigPy](http://sigpy.readthedocs.io), [ANTsPy](https://github.com/ANTsX/ANTsPy), and clone the iMoCo github repo."
      ]
    },
    {
      "cell_type": "code",
      "metadata": {
        "id": "qbJolU3s8_d6",
        "colab_type": "code",
        "colab": {
          "base_uri": "https://localhost:8080/",
          "height": 1000
        },
        "outputId": "73b52cc5-a0c0-425e-cdfd-0dc6dc98f09c"
      },
      "source": [
        "# install dependent packages sigpy, h5py, antspy\n",
        "!pip install sigpy h5py\n",
        "!pip install antspyx\n",
        "\n",
        "# clone imoco recon repo\n",
        "! git clone https://github.com/PulmonaryMRI/imoco_recon"
      ],
      "execution_count": 1,
      "outputs": [
        {
          "output_type": "stream",
          "text": [
            "Collecting sigpy\n",
            "\u001b[?25l  Downloading https://files.pythonhosted.org/packages/af/bf/364346092533636f478da5f853ed985225451b76a6dce4694dbd88843c5e/sigpy-0.1.20-py3-none-any.whl (130kB)\n",
            "\r\u001b[K     |██▌                             | 10kB 23.8MB/s eta 0:00:01\r\u001b[K     |█████                           | 20kB 3.4MB/s eta 0:00:01\r\u001b[K     |███████▌                        | 30kB 4.9MB/s eta 0:00:01\r\u001b[K     |██████████                      | 40kB 4.7MB/s eta 0:00:01\r\u001b[K     |████████████▌                   | 51kB 4.0MB/s eta 0:00:01\r\u001b[K     |███████████████                 | 61kB 4.5MB/s eta 0:00:01\r\u001b[K     |█████████████████▌              | 71kB 4.9MB/s eta 0:00:01\r\u001b[K     |████████████████████            | 81kB 5.3MB/s eta 0:00:01\r\u001b[K     |██████████████████████▌         | 92kB 5.7MB/s eta 0:00:01\r\u001b[K     |█████████████████████████       | 102kB 5.5MB/s eta 0:00:01\r\u001b[K     |███████████████████████████▌    | 112kB 5.5MB/s eta 0:00:01\r\u001b[K     |██████████████████████████████  | 122kB 5.5MB/s eta 0:00:01\r\u001b[K     |████████████████████████████████| 133kB 5.5MB/s \n",
            "\u001b[?25hRequirement already satisfied: h5py in /usr/local/lib/python3.6/dist-packages (2.10.0)\n",
            "Requirement already satisfied: numba in /usr/local/lib/python3.6/dist-packages (from sigpy) (0.48.0)\n",
            "Requirement already satisfied: tqdm in /usr/local/lib/python3.6/dist-packages (from sigpy) (4.41.1)\n",
            "Requirement already satisfied: scipy in /usr/local/lib/python3.6/dist-packages (from sigpy) (1.4.1)\n",
            "Requirement already satisfied: pywavelets in /usr/local/lib/python3.6/dist-packages (from sigpy) (1.1.1)\n",
            "Requirement already satisfied: numpy in /usr/local/lib/python3.6/dist-packages (from sigpy) (1.18.5)\n",
            "Requirement already satisfied: six in /usr/local/lib/python3.6/dist-packages (from h5py) (1.15.0)\n",
            "Requirement already satisfied: setuptools in /usr/local/lib/python3.6/dist-packages (from numba->sigpy) (49.6.0)\n",
            "Requirement already satisfied: llvmlite<0.32.0,>=0.31.0dev0 in /usr/local/lib/python3.6/dist-packages (from numba->sigpy) (0.31.0)\n",
            "Installing collected packages: sigpy\n",
            "Successfully installed sigpy-0.1.20\n",
            "Collecting antspyx\n",
            "\u001b[?25l  Downloading https://files.pythonhosted.org/packages/11/94/dc7774369183e1a875c06816680f4e56f9dac37087c2579dda641c13dd5e/antspyx-0.2.5-cp36-cp36m-manylinux2014_x86_64.whl (254.6MB)\n",
            "\u001b[K     |████████████████████████████████| 254.6MB 59kB/s \n",
            "\u001b[?25hRequirement already satisfied: Pillow in /usr/local/lib/python3.6/dist-packages (from antspyx) (7.0.0)\n",
            "Collecting chart-studio\n",
            "\u001b[?25l  Downloading https://files.pythonhosted.org/packages/ca/ce/330794a6b6ca4b9182c38fc69dd2a9cbff60fd49421cb8648ee5fee352dc/chart_studio-1.1.0-py3-none-any.whl (64kB)\n",
            "\u001b[K     |████████████████████████████████| 71kB 10.3MB/s \n",
            "\u001b[?25hRequirement already satisfied: scikit-image in /usr/local/lib/python3.6/dist-packages (from antspyx) (0.16.2)\n",
            "Requirement already satisfied: matplotlib in /usr/local/lib/python3.6/dist-packages (from antspyx) (3.2.2)\n",
            "Collecting webcolors\n",
            "  Downloading https://files.pythonhosted.org/packages/12/05/3350559de9714b202e443a9e6312937341bd5f79f4e4f625744295e7dd17/webcolors-1.11.1-py3-none-any.whl\n",
            "Requirement already satisfied: pyyaml in /usr/local/lib/python3.6/dist-packages (from antspyx) (3.13)\n",
            "Requirement already satisfied: statsmodels in /usr/local/lib/python3.6/dist-packages (from antspyx) (0.10.2)\n",
            "Requirement already satisfied: nibabel in /usr/local/lib/python3.6/dist-packages (from antspyx) (3.0.2)\n",
            "Requirement already satisfied: scipy in /usr/local/lib/python3.6/dist-packages (from antspyx) (1.4.1)\n",
            "Requirement already satisfied: pandas in /usr/local/lib/python3.6/dist-packages (from antspyx) (1.0.5)\n",
            "Requirement already satisfied: sklearn in /usr/local/lib/python3.6/dist-packages (from antspyx) (0.0)\n",
            "Requirement already satisfied: scikit-learn in /usr/local/lib/python3.6/dist-packages (from antspyx) (0.22.2.post1)\n",
            "Requirement already satisfied: numpy in /usr/local/lib/python3.6/dist-packages (from antspyx) (1.18.5)\n",
            "Requirement already satisfied: retrying>=1.3.3 in /usr/local/lib/python3.6/dist-packages (from chart-studio->antspyx) (1.3.3)\n",
            "Requirement already satisfied: requests in /usr/local/lib/python3.6/dist-packages (from chart-studio->antspyx) (2.23.0)\n",
            "Requirement already satisfied: plotly in /usr/local/lib/python3.6/dist-packages (from chart-studio->antspyx) (4.4.1)\n",
            "Requirement already satisfied: six in /usr/local/lib/python3.6/dist-packages (from chart-studio->antspyx) (1.15.0)\n",
            "Requirement already satisfied: imageio>=2.3.0 in /usr/local/lib/python3.6/dist-packages (from scikit-image->antspyx) (2.4.1)\n",
            "Requirement already satisfied: networkx>=2.0 in /usr/local/lib/python3.6/dist-packages (from scikit-image->antspyx) (2.5)\n",
            "Requirement already satisfied: PyWavelets>=0.4.0 in /usr/local/lib/python3.6/dist-packages (from scikit-image->antspyx) (1.1.1)\n",
            "Requirement already satisfied: python-dateutil>=2.1 in /usr/local/lib/python3.6/dist-packages (from matplotlib->antspyx) (2.8.1)\n",
            "Requirement already satisfied: pyparsing!=2.0.4,!=2.1.2,!=2.1.6,>=2.0.1 in /usr/local/lib/python3.6/dist-packages (from matplotlib->antspyx) (2.4.7)\n",
            "Requirement already satisfied: kiwisolver>=1.0.1 in /usr/local/lib/python3.6/dist-packages (from matplotlib->antspyx) (1.2.0)\n",
            "Requirement already satisfied: cycler>=0.10 in /usr/local/lib/python3.6/dist-packages (from matplotlib->antspyx) (0.10.0)\n",
            "Requirement already satisfied: patsy>=0.4.0 in /usr/local/lib/python3.6/dist-packages (from statsmodels->antspyx) (0.5.1)\n",
            "Requirement already satisfied: pytz>=2017.2 in /usr/local/lib/python3.6/dist-packages (from pandas->antspyx) (2018.9)\n",
            "Requirement already satisfied: joblib>=0.11 in /usr/local/lib/python3.6/dist-packages (from scikit-learn->antspyx) (0.16.0)\n",
            "Requirement already satisfied: certifi>=2017.4.17 in /usr/local/lib/python3.6/dist-packages (from requests->chart-studio->antspyx) (2020.6.20)\n",
            "Requirement already satisfied: idna<3,>=2.5 in /usr/local/lib/python3.6/dist-packages (from requests->chart-studio->antspyx) (2.10)\n",
            "Requirement already satisfied: urllib3!=1.25.0,!=1.25.1,<1.26,>=1.21.1 in /usr/local/lib/python3.6/dist-packages (from requests->chart-studio->antspyx) (1.24.3)\n",
            "Requirement already satisfied: chardet<4,>=3.0.2 in /usr/local/lib/python3.6/dist-packages (from requests->chart-studio->antspyx) (3.0.4)\n",
            "Requirement already satisfied: decorator>=4.3.0 in /usr/local/lib/python3.6/dist-packages (from networkx>=2.0->scikit-image->antspyx) (4.4.2)\n",
            "Installing collected packages: chart-studio, webcolors, antspyx\n",
            "Successfully installed antspyx-0.2.5 chart-studio-1.1.0 webcolors-1.11.1\n",
            "Cloning into 'imoco_recon'...\n",
            "remote: Enumerating objects: 126, done.\u001b[K\n",
            "remote: Counting objects: 100% (126/126), done.\u001b[K\n",
            "remote: Compressing objects: 100% (90/90), done.\u001b[K\n",
            "remote: Total 126 (delta 40), reused 108 (delta 30), pack-reused 0\u001b[K\n",
            "Receiving objects: 100% (126/126), 59.17 KiB | 1.08 MiB/s, done.\n",
            "Resolving deltas: 100% (40/40), done.\n"
          ],
          "name": "stdout"
        }
      ]
    },
    {
      "cell_type": "markdown",
      "metadata": {
        "id": "oi3yyTTi8oxn",
        "colab_type": "text"
      },
      "source": [
        "# Download dataset\n",
        "\n",
        "Now, let's download a sample Lung UTE dataset. The dataset is hosted on Zenodo: https://zenodo.org/record/3733776#.XoJlNC2ZPOQ.\n",
        "\n",
        "<!-- The `download_lung_dataset()` function will download the datasets if it cannot find them under `data/lung/`. It takes around 8 minutes to download the datasets. -->"
      ]
    },
    {
      "cell_type": "code",
      "metadata": {
        "id": "Mn1mqZ38YEPo",
        "colab_type": "code",
        "colab": {
          "base_uri": "https://localhost:8080/",
          "height": 1000
        },
        "outputId": "cef245ba-b87f-44f5-95cc-e045f21f554b"
      },
      "source": [
        "!mkdir lung_mri\n",
        "!pip install zenodo-get\n",
        "!zenodo_get -d 10.5281/zenodo.3733775 -o ./lung_mri"
      ],
      "execution_count": 3,
      "outputs": [
        {
          "output_type": "stream",
          "text": [
            "mkdir: cannot create directory ‘lung_mri’: File exists\n",
            "Requirement already satisfied: zenodo-get in /usr/local/lib/python3.6/dist-packages (1.3.2)\n",
            "Requirement already satisfied: requests in /usr/local/lib/python3.6/dist-packages (from zenodo-get) (2.23.0)\n",
            "Requirement already satisfied: wget in /usr/local/lib/python3.6/dist-packages (from zenodo-get) (3.2)\n",
            "Requirement already satisfied: urllib3!=1.25.0,!=1.25.1,<1.26,>=1.21.1 in /usr/local/lib/python3.6/dist-packages (from requests->zenodo-get) (1.24.3)\n",
            "Requirement already satisfied: idna<3,>=2.5 in /usr/local/lib/python3.6/dist-packages (from requests->zenodo-get) (2.10)\n",
            "Requirement already satisfied: chardet<4,>=3.0.2 in /usr/local/lib/python3.6/dist-packages (from requests->zenodo-get) (3.0.4)\n",
            "Requirement already satisfied: certifi>=2017.4.17 in /usr/local/lib/python3.6/dist-packages (from requests->zenodo-get) (2020.6.20)\n",
            "Title: Free Breathing Lung MRI Dataset at 3T\n",
            "Keywords: lung MRI, motion correction\n",
            "Publication date: 2020-03-30\n",
            "DOI: 10.5281/zenodo.3733776\n",
            "Total size: 4800.4 MB\n",
            "\n",
            "Link: https://zenodo.org/api/files/4e2fa077-5616-489c-b70f-3464b7f2ec44/cfl.py   size: 0.0 MB\n",
            "\n",
            "Checksum is correct. (54d868ad54b8a2b35606d5771f53c0e0)\n",
            "\n",
            "Link: https://zenodo.org/api/files/4e2fa077-5616-489c-b70f-3464b7f2ec44/MRI_Raw_datam.cfl   size: 3074.7 MB\n",
            "\n",
            "Checksum is correct. (ec2e8d5f885147873ce386d99dc90343)\n",
            "\n",
            "Link: https://zenodo.org/api/files/4e2fa077-5616-489c-b70f-3464b7f2ec44/MRI_Raw_datam.hdr   size: 0.0 MB\n",
            "\n",
            "Checksum is correct. (f2bf52eb84dd2bc8299c8f058306b765)\n",
            "\n",
            "Link: https://zenodo.org/api/files/4e2fa077-5616-489c-b70f-3464b7f2ec44/MRI_Raw_dcf2m.cfl   size: 384.3 MB\n",
            "\n",
            "Checksum is correct. (8de658fd47d671d0c2aa43b191920ea3)\n",
            "\n",
            "Link: https://zenodo.org/api/files/4e2fa077-5616-489c-b70f-3464b7f2ec44/MRI_Raw_dcf2m.hdr   size: 0.0 MB\n",
            "\n",
            "Checksum is correct. (e5b9482eb8bec83aa5ab3bd2a77a725c)\n",
            "\n",
            "Link: https://zenodo.org/api/files/4e2fa077-5616-489c-b70f-3464b7f2ec44/MRI_Raw_imoco.cfl   size: 188.3 MB\n",
            "\n",
            "Checksum is correct. (159ab4e01eca5fdf5a5882bf406d60a8)\n",
            "\n",
            "Link: https://zenodo.org/api/files/4e2fa077-5616-489c-b70f-3464b7f2ec44/MRI_Raw_imoco.hdr   size: 0.0 MB\n",
            "\n",
            "Checksum is correct. (3dd4add15fab2e5cf9828d63ca66337f)\n",
            "\n",
            "Link: https://zenodo.org/api/files/4e2fa077-5616-489c-b70f-3464b7f2ec44/MRI_Raw_trajm.cfl   size: 1153.0 MB\n",
            "\n",
            "Checksum is correct. (43f6821e1bfc82450266897670296b12)\n",
            "\n",
            "Link: https://zenodo.org/api/files/4e2fa077-5616-489c-b70f-3464b7f2ec44/MRI_Raw_trajm.hdr   size: 0.0 MB\n",
            "\n",
            "Checksum is correct. (e72dd67525d1169dc11919ad5afa9906)\n",
            "\n",
            "Link: https://zenodo.org/api/files/4e2fa077-5616-489c-b70f-3464b7f2ec44/readcfl.m   size: 0.0 MB\n",
            "\n",
            "Checksum is correct. (cd339c0ebb279f174e44026b05b0d1f2)\n",
            "\n",
            "Link: https://zenodo.org/api/files/4e2fa077-5616-489c-b70f-3464b7f2ec44/writecfl.m   size: 0.0 MB\n",
            "\n",
            "Checksum is correct. (00741deb8a416f79c6330ec8b95ce4a5)\n",
            "All files have been downloaded.\n"
          ],
          "name": "stdout"
        }
      ]
    },
    {
      "cell_type": "markdown",
      "metadata": {
        "id": "XnZVUcLm2_kX",
        "colab_type": "text"
      },
      "source": [
        "# iMoCo Reconstruction\n",
        "step 1. XD-GRASP, motion-resolved reconstruction \\\n",
        "step 2. iMoCo reconstruction"
      ]
    },
    {
      "cell_type": "code",
      "metadata": {
        "id": "bpJQxShIhivb",
        "colab_type": "code",
        "colab": {
          "base_uri": "https://localhost:8080/",
          "height": 156
        },
        "outputId": "657f8673-13b4-4f83-c03b-dcc8f77820f2"
      },
      "source": [
        "!python imoco_recon/imoco_py/recon_xdgrasp.py ./lung_mri/MRI_Raw --device 0"
      ],
      "execution_count": 4,
      "outputs": [
        {
          "output_type": "stream",
          "text": [
            "tcmalloc: large alloc 3224084480 bytes == 0x3f4e000 @  0x7f74cc4e51e7 0x7f74ca00b5e1 0x7f74ca07490d 0x7f74ca075522 0x7f74ca10cbce 0x50a7f5 0x50cfd6 0x509918 0x50a64d 0x50c1f4 0x507f24 0x50b053 0x634dd2 0x634e87 0x63863f 0x6391e1 0x4b0dc0 0x7f74cc0e2b97 0x5b26fa\n",
            "tcmalloc: large alloc 1209032704 bytes == 0xc4208000 @  0x7f74cc4e51e7 0x7f74ca00b5e1 0x7f74ca07490d 0x7f74ca075522 0x7f74ca10cbce 0x50a7f5 0x50cfd6 0x509918 0x50a64d 0x50c1f4 0x507f24 0x50b053 0x634dd2 0x634e87 0x63863f 0x6391e1 0x4b0dc0 0x7f74cc0e2b97 0x5b26fa\n",
            "tcmalloc: large alloc 1848672256 bytes == 0x124366000 @  0x7f74cc4e51e7 0x7f74ca00b5e1 0x7f74ca072420 0x7f74ca0677d5 0x7f74ca132730 0x7f74ca0fd317 0x567193 0x511341 0x507f24 0x509c50 0x50a64d 0x50cfd6 0x507f24 0x588e91 0x59fe1e 0x7f74ca05b4ed 0x50a47f 0x50c1f4 0x507f24 0x509c50 0x50a64d 0x50c1f4 0x507f24 0x50b053 0x634dd2 0x634e87 0x63863f 0x6391e1 0x4b0dc0 0x7f74cc0e2b97 0x5b26fa\n",
            "JsenseRecon: 100% 10/10 [00:09<00:00,  1.03it/s]\n",
            "tcmalloc: large alloc 1848672256 bytes == 0x7f727bcf8000 @  0x7f74cc4e51e7 0x7f74ca00b5e1 0x7f74ca06fc78 0x7f74ca06fd93 0x7f74ca122fed 0x7f74ca12394e 0x7f74ca1262c8 0x7f74ca266276 0x7f74ca267d44 0x7f74ca26a492 0x7f74ca26b30e 0x5a4a0c 0x5a50d8 0x7f74ca12e06b 0x5a0fc0 0x50d3a4 0x507f24 0x50b053 0x634dd2 0x634e87 0x63863f 0x6391e1 0x4b0dc0 0x7f74cc0e2b97 0x5b26fa\n",
            "tcmalloc: large alloc 1848672256 bytes == 0x7f720d9f0000 @  0x7f74cc4e51e7 0x7f74ca00b5e1 0x7f74ca06fc78 0x7f74ca06ff37 0x7f74ca107f28 0x50a7f5 0x50cfd6 0x509918 0x50a64d 0x50c1f4 0x509918 0x50a64d 0x50c1f4 0x509918 0x50a64d 0x50c1f4 0x509015 0x594b01 0x54ac61 0x5a9eec 0x50a783 0x50c1f4 0x509918 0x50a64d 0x50c1f4 0x509918 0x50a64d 0x50c1f4 0x509015 0x594b01 0x59fe1e\n",
            "^C\n"
          ],
          "name": "stdout"
        }
      ]
    },
    {
      "cell_type": "code",
      "metadata": {
        "id": "BPRB7njKExJv",
        "colab_type": "code",
        "colab": {}
      },
      "source": [
        "!python imoco_recon/imoco_py/recon_imoco.py ./lung_mri/MRI_Raw --device 0"
      ],
      "execution_count": null,
      "outputs": []
    },
    {
      "cell_type": "markdown",
      "metadata": {
        "id": "MuYtR0YyNZ6n",
        "colab_type": "text"
      },
      "source": [
        "# Display Image\n"
      ]
    },
    {
      "cell_type": "code",
      "metadata": {
        "id": "QDm-heEENfg5",
        "colab_type": "code",
        "colab": {}
      },
      "source": [
        "import sigpy.plot as pl\n"
      ],
      "execution_count": null,
      "outputs": []
    }
  ]
}