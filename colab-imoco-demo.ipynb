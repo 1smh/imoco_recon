{
  "nbformat": 4,
  "nbformat_minor": 0,
  "metadata": {
    "colab": {
      "name": "Untitled0.ipynb",
      "provenance": [],
      "include_colab_link": true
    },
    "kernelspec": {
      "name": "python3",
      "display_name": "Python 3"
    }
  },
  "cells": [
    {
      "cell_type": "markdown",
      "metadata": {
        "id": "view-in-github",
        "colab_type": "text"
      },
      "source": [
        "<a href=\"https://colab.research.google.com/github/Phillistan16/imoco_recon/blob/colab_demo/colab-imoco-demo.ipynb\" target=\"_parent\"><img src=\"https://colab.research.google.com/assets/colab-badge.svg\" alt=\"Open In Colab\"/></a>"
      ]
    },
    {
      "cell_type": "markdown",
      "metadata": {
        "id": "REKipt04s_R_",
        "colab_type": "text"
      },
      "source": [
        "# iterative Motion Compensation (iMoCo) Reconstruction Demo\n",
        "This CoLab notebook is a demo of the iMoCo method\n",
        "https://onlinelibrary.wiley.com/doi/full/10.1002/mrm.27998\n",
        "https://github.com/PulmonaryMRI/imoco_recon\n"
      ]
    },
    {
      "cell_type": "markdown",
      "metadata": {
        "id": "YGOlMnLD8oxb",
        "colab_type": "text"
      },
      "source": [
        "# Setup\n",
        "\n",
        "<!-- By default, this colab notebook should have a GPU runtime environment. To check this, go to **Runtime > Change runtime type** and see if **GPU** is selected as **Hardware accelerator**. -->\n",
        "\n",
        "To setup, we will install [SigPy](http://sigpy.readthedocs.io), [ANTsPy](https://github.com/ANTsX/ANTsPy), and clone the iMoCo github repo."
      ]
    },
    {
      "cell_type": "code",
      "metadata": {
        "id": "qbJolU3s8_d6",
        "colab_type": "code",
        "colab": {}
      },
      "source": [
        "# install dependent packages sigpy, h5py, antspy\n",
        "!pip install sigpy h5py\n",
        "!pip install antspyx\n",
        "\n",
        "# clone imoco recon repo\n",
        "! git clone https://github.com/PulmonaryMRI/imoco_recon\n",
        "% cd imoco_recon/imoco_py\n"
      ],
      "execution_count": null,
      "outputs": []
    },
    {
      "cell_type": "markdown",
      "metadata": {
        "id": "oi3yyTTi8oxn",
        "colab_type": "text"
      },
      "source": [
        "# Download and Load dataset\n",
        "\n",
        "Now, let's download and load a sample Lung UTE dataset. The dataset is hosted on Zenodo: https://zenodo.org/record/3733776#.XoJlNC2ZPOQ.\n",
        "\n",
        "<!-- The `download_lung_dataset()` function will download the datasets if it cannot find them under `data/lung/`. It takes around 8 minutes to download the datasets. -->"
      ]
    },
    {
      "cell_type": "code",
      "metadata": {
        "id": "H_FLzYe_ehg_",
        "colab_type": "code",
        "colab": {
          "base_uri": "https://localhost:8080/",
          "height": 173
        },
        "outputId": "15c284ef-c898-4db4-a33c-27e0df2a2fac"
      },
      "source": [
        "mkdir lung_mri\n",
        "!pip install zenodo-get\n",
        "!zenodo_get -d 10.5281/zenodo.3733775 -o ./lung_mri"
      ],
      "execution_count": 4,
      "outputs": [
        {
          "output_type": "stream",
          "text": [
            "Requirement already satisfied: zenodo-get in /usr/local/lib/python3.6/dist-packages (1.3.2)\n",
            "Requirement already satisfied: requests in /usr/local/lib/python3.6/dist-packages (from zenodo-get) (2.23.0)\n",
            "Requirement already satisfied: wget in /usr/local/lib/python3.6/dist-packages (from zenodo-get) (3.2)\n",
            "Requirement already satisfied: certifi>=2017.4.17 in /usr/local/lib/python3.6/dist-packages (from requests->zenodo-get) (2020.6.20)\n",
            "Requirement already satisfied: chardet<4,>=3.0.2 in /usr/local/lib/python3.6/dist-packages (from requests->zenodo-get) (3.0.4)\n",
            "Requirement already satisfied: urllib3!=1.25.0,!=1.25.1,<1.26,>=1.21.1 in /usr/local/lib/python3.6/dist-packages (from requests->zenodo-get) (1.24.3)\n",
            "Requirement already satisfied: idna<3,>=2.5 in /usr/local/lib/python3.6/dist-packages (from requests->zenodo-get) (2.10)\n",
            "/bin/bash: zenodo_get.py: command not found\n"
          ],
          "name": "stdout"
        }
      ]
    },
    {
      "cell_type": "code",
      "metadata": {
        "id": "bpJQxShIhivb",
        "colab_type": "code",
        "colab": {
          "base_uri": "https://localhost:8080/",
          "height": 136
        },
        "outputId": "0b1ec492-179c-494c-a4fc-42e41e8169a5"
      },
      "source": [
        "import sys\n",
        "sys.path.append('/content/imoco_recon/imoco_py/sigpy_e/')\n",
        "!python recon_imoco.py -h"
      ],
      "execution_count": 2,
      "outputs": [
        {
          "output_type": "stream",
          "text": [
            "/content/imoco_recon/imoco_py\n",
            "Traceback (most recent call last):\n",
            "  File \"recon_imoco.py\", line 11, in <module>\n",
            "    import sigpy_e.ext as ext\n",
            "  File \"/content/imoco_recon/imoco_py/sigpy_e/ext.py\", line 4, in <module>\n",
            "    import nft\n",
            "ModuleNotFoundError: No module named 'nft'\n"
          ],
          "name": "stdout"
        }
      ]
    },
    {
      "cell_type": "code",
      "metadata": {
        "id": "v4Ja5lONu0Ai",
        "colab_type": "code",
        "colab": {}
      },
      "source": [
        ""
      ],
      "execution_count": null,
      "outputs": []
    }
  ]
}