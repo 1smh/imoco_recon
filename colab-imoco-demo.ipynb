{
  "nbformat": 4,
  "nbformat_minor": 0,
  "metadata": {
    "colab": {
      "name": "Untitled0.ipynb",
      "provenance": [],
      "authorship_tag": "ABX9TyNJqKJ8B07h2vriOJUNNFaw",
      "include_colab_link": true
    },
    "kernelspec": {
      "name": "python3",
      "display_name": "Python 3"
    }
  },
  "cells": [
    {
      "cell_type": "markdown",
      "metadata": {
        "id": "view-in-github",
        "colab_type": "text"
      },
      "source": [
        "<a href=\"https://colab.research.google.com/github/PulmonaryMRI/imoco_recon/blob/colab_demo/colab-imoco-demo.ipynb\" target=\"_parent\"><img src=\"https://colab.research.google.com/assets/colab-badge.svg\" alt=\"Open In Colab\"/></a>"
      ]
    },
    {
      "cell_type": "markdown",
      "metadata": {
        "id": "REKipt04s_R_",
        "colab_type": "text"
      },
      "source": [
        "# iterative Motion Compensation (iMoCo) Reconstruction Demo\n",
        "This CoLab notebook is a demo of the iMoCo method\n",
        "https://onlinelibrary.wiley.com/doi/full/10.1002/mrm.27998\n",
        "https://github.com/PulmonaryMRI/imoco_recon\n"
      ]
    },
    {
      "cell_type": "markdown",
      "metadata": {
        "id": "YGOlMnLD8oxb",
        "colab_type": "text"
      },
      "source": [
        "# Setup\n",
        "\n",
        "By default, this colab notebook should have a GPU runtime environment. To check this, go to **Runtime > Change runtime type** and see if **GPU** is selected as **Hardware accelerator**.\n",
        "\n",
        "To setup, we will install [SigPy](http://sigpy.readthedocs.io) and clone the iMoCo github repo.\n",
        "\n",
        "The reconstruction also depends on [CuPy](https://cupy.chainer.org) for GPU functionalities, which is already installed on Google Colab."
      ]
    },
    {
      "cell_type": "code",
      "metadata": {
        "id": "qbJolU3s8_d6",
        "colab_type": "code",
        "colab": {}
      },
      "source": [
        "!pip install sigpy h5py\n",
        "! git clone https://github.com/PulmonaryMRI/imoco_recon\n",
        "% cd imoco_recon\n"
      ],
      "execution_count": null,
      "outputs": []
    }
  ]
}