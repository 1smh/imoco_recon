{
  "nbformat": 4,
  "nbformat_minor": 0,
  "metadata": {
    "colab": {
      "name": "Untitled0.ipynb",
      "provenance": [],
      "include_colab_link": true
    },
    "kernelspec": {
      "name": "python3",
      "display_name": "Python 3"
    },
    "accelerator": "GPU"
  },
  "cells": [
    {
      "cell_type": "markdown",
      "metadata": {
        "id": "view-in-github",
        "colab_type": "text"
      },
      "source": [
        "<a href=\"https://colab.research.google.com/github/Phillistan16/imoco_recon/blob/colab_demo/colab-imoco-demo.ipynb\" target=\"_parent\"><img src=\"https://colab.research.google.com/assets/colab-badge.svg\" alt=\"Open In Colab\"/></a>"
      ]
    },
    {
      "cell_type": "markdown",
      "metadata": {
        "id": "REKipt04s_R_",
        "colab_type": "text"
      },
      "source": [
        "# iterative Motion Compensation (iMoCo) Reconstruction Demo\n",
        "This CoLab notebook is a demo of the iMoCo method\n",
        "https://onlinelibrary.wiley.com/doi/full/10.1002/mrm.27998\n",
        "https://github.com/PulmonaryMRI/imoco_recon\n"
      ]
    },
    {
      "cell_type": "markdown",
      "metadata": {
        "id": "YGOlMnLD8oxb",
        "colab_type": "text"
      },
      "source": [
        "# Setup\n",
        "\n",
        "<!-- By default, this colab notebook should have a GPU runtime environment. To check this, go to **Runtime > Change runtime type** and see if **GPU** is selected as **Hardware accelerator**. -->\n",
        "\n",
        "To setup, we will install [SigPy](http://sigpy.readthedocs.io), [ANTs](https://github.com/ANTsX/ANTs) and clone the iMoCo github repo.\n",
        "\n",
        "To activate GPU environment in Colab, go to Runtime -> Change Runtime -> GPU"
      ]
    },
    {
      "cell_type": "code",
      "metadata": {
        "id": "qbJolU3s8_d6",
        "colab_type": "code",
        "colab": {
          "base_uri": "https://localhost:8080/",
          "height": 340
        },
        "outputId": "2b13c541-2e83-4e6b-b78a-9e01083b8d55"
      },
      "source": [
        "# install dependent packages sigpy, antspy\n",
        "!pip install sigpy==0.1.16\n",
        "#!pip install antspyx # enable after moving from ANTs to [ANTsPy](https://github.com/ANTsX/ANTsPy)\n",
        "\n",
        "# clone imoco recon repo\n",
        "! git clone -b colab_demo https://github.com/PulmonaryMRI/imoco_recon"
      ],
      "execution_count": 1,
      "outputs": [
        {
          "output_type": "stream",
          "text": [
            "Collecting sigpy==0.1.16\n",
            "\u001b[?25l  Downloading https://files.pythonhosted.org/packages/6b/95/3b7e167811ceb2e65d9de3767f5999014e19c98b88dcd40476af666048c0/sigpy-0.1.16-py3-none-any.whl (84kB)\n",
            "\r\u001b[K     |███▉                            | 10kB 21.0MB/s eta 0:00:01\r\u001b[K     |███████▊                        | 20kB 2.1MB/s eta 0:00:01\r\u001b[K     |███████████▋                    | 30kB 2.7MB/s eta 0:00:01\r\u001b[K     |███████████████▌                | 40kB 2.0MB/s eta 0:00:01\r\u001b[K     |███████████████████▍            | 51kB 2.4MB/s eta 0:00:01\r\u001b[K     |███████████████████████▎        | 61kB 2.6MB/s eta 0:00:01\r\u001b[K     |███████████████████████████▏    | 71kB 3.0MB/s eta 0:00:01\r\u001b[K     |███████████████████████████████ | 81kB 3.3MB/s eta 0:00:01\r\u001b[K     |████████████████████████████████| 92kB 2.8MB/s \n",
            "\u001b[?25hRequirement already satisfied: tqdm in /usr/local/lib/python3.6/dist-packages (from sigpy==0.1.16) (4.41.1)\n",
            "Requirement already satisfied: numpy in /usr/local/lib/python3.6/dist-packages (from sigpy==0.1.16) (1.18.5)\n",
            "Requirement already satisfied: numba in /usr/local/lib/python3.6/dist-packages (from sigpy==0.1.16) (0.48.0)\n",
            "Requirement already satisfied: pywavelets in /usr/local/lib/python3.6/dist-packages (from sigpy==0.1.16) (1.1.1)\n",
            "Requirement already satisfied: scipy in /usr/local/lib/python3.6/dist-packages (from sigpy==0.1.16) (1.4.1)\n",
            "Requirement already satisfied: setuptools in /usr/local/lib/python3.6/dist-packages (from numba->sigpy==0.1.16) (49.6.0)\n",
            "Requirement already satisfied: llvmlite<0.32.0,>=0.31.0dev0 in /usr/local/lib/python3.6/dist-packages (from numba->sigpy==0.1.16) (0.31.0)\n",
            "Installing collected packages: sigpy\n",
            "Successfully installed sigpy-0.1.16\n",
            "Cloning into 'imoco_recon'...\n",
            "remote: Enumerating objects: 149, done.\u001b[K\n",
            "remote: Counting objects: 100% (149/149), done.\u001b[K\n",
            "remote: Compressing objects: 100% (113/113), done.\u001b[K\n",
            "remote: Total 149 (delta 55), reused 106 (delta 30), pack-reused 0\u001b[K\n",
            "Receiving objects: 100% (149/149), 206.52 KiB | 3.38 MiB/s, done.\n",
            "Resolving deltas: 100% (55/55), done.\n"
          ],
          "name": "stdout"
        }
      ]
    },
    {
      "cell_type": "code",
      "metadata": {
        "id": "5VsbK_UjLlq4",
        "colab_type": "code",
        "colab": {}
      },
      "source": [
        "# install ANTs\n",
        "!git clone https://github.com/ANTsX/ANTs.git\n",
        "!mkdir build install\n",
        "%cd build\n",
        "!cmake /content/ANTs\n",
        "!make -j 2 2>&1\n",
        "%cd ANTS-build\n",
        "!make install 2>&1\n",
        "import os\n",
        "os.environ['PATH'] += \":/opt/ANTs/bin\"\n",
        "%cd ../.."
      ],
      "execution_count": null,
      "outputs": []
    },
    {
      "cell_type": "code",
      "metadata": {
        "id": "wVsgmnpg2Rma",
        "colab_type": "code",
        "colab": {}
      },
      "source": [
        "# import packages\n",
        "import imoco_recon.imoco_py.sigpy_e.cfl as cfl\n",
        "import numpy as np\n",
        "import sigpy.plot as pl"
      ],
      "execution_count": 3,
      "outputs": []
    },
    {
      "cell_type": "markdown",
      "metadata": {
        "id": "oi3yyTTi8oxn",
        "colab_type": "text"
      },
      "source": [
        "# Download dataset\n",
        "\n",
        "Now, let's download a sample Lung UTE dataset. The dataset is hosted on Zenodo: https://zenodo.org/record/3733776#.XoJlNC2ZPOQ.\n",
        "\n",
        "<!-- The `download_lung_dataset()` function will download the datasets if it cannot find them under `data/lung/`. It takes around 8 minutes to download the datasets. -->"
      ]
    },
    {
      "cell_type": "code",
      "metadata": {
        "id": "Mn1mqZ38YEPo",
        "colab_type": "code",
        "colab": {
          "base_uri": "https://localhost:8080/",
          "height": 1000
        },
        "outputId": "3730169c-41b0-40a5-87c2-a5ce9e1c7ec5"
      },
      "source": [
        "!mkdir lung_mri\n",
        "!pip install zenodo-get\n",
        "!zenodo_get -d 10.5281/zenodo.3733775 -o ./lung_mri"
      ],
      "execution_count": 4,
      "outputs": [
        {
          "output_type": "stream",
          "text": [
            "Collecting zenodo-get\n",
            "  Downloading https://files.pythonhosted.org/packages/b1/93/7bb7fff9ee485dcd3fa679984c5cb06147fcc567930a3b3549d8053a2fe8/zenodo_get-1.3.2-py2.py3-none-any.whl\n",
            "Collecting wget\n",
            "  Downloading https://files.pythonhosted.org/packages/47/6a/62e288da7bcda82b935ff0c6cfe542970f04e29c756b0e147251b2fb251f/wget-3.2.zip\n",
            "Requirement already satisfied: requests in /usr/local/lib/python3.6/dist-packages (from zenodo-get) (2.23.0)\n",
            "Requirement already satisfied: idna<3,>=2.5 in /usr/local/lib/python3.6/dist-packages (from requests->zenodo-get) (2.10)\n",
            "Requirement already satisfied: urllib3!=1.25.0,!=1.25.1,<1.26,>=1.21.1 in /usr/local/lib/python3.6/dist-packages (from requests->zenodo-get) (1.24.3)\n",
            "Requirement already satisfied: certifi>=2017.4.17 in /usr/local/lib/python3.6/dist-packages (from requests->zenodo-get) (2020.6.20)\n",
            "Requirement already satisfied: chardet<4,>=3.0.2 in /usr/local/lib/python3.6/dist-packages (from requests->zenodo-get) (3.0.4)\n",
            "Building wheels for collected packages: wget\n",
            "  Building wheel for wget (setup.py) ... \u001b[?25l\u001b[?25hdone\n",
            "  Created wheel for wget: filename=wget-3.2-cp36-none-any.whl size=9682 sha256=e48ea730abb1228c36bd707a08f237e40524099e29c230881869afb94cda8707\n",
            "  Stored in directory: /root/.cache/pip/wheels/40/15/30/7d8f7cea2902b4db79e3fea550d7d7b85ecb27ef992b618f3f\n",
            "Successfully built wget\n",
            "Installing collected packages: wget, zenodo-get\n",
            "Successfully installed wget-3.2 zenodo-get-1.3.2\n",
            "Title: Free Breathing Lung MRI Dataset at 3T\n",
            "Keywords: lung MRI, motion correction\n",
            "Publication date: 2020-03-30\n",
            "DOI: 10.5281/zenodo.3733776\n",
            "Total size: 4800.4 MB\n",
            "\n",
            "Link: https://zenodo.org/api/files/4e2fa077-5616-489c-b70f-3464b7f2ec44/cfl.py   size: 0.0 MB\n",
            "\n",
            "Checksum is correct. (54d868ad54b8a2b35606d5771f53c0e0)\n",
            "\n",
            "Link: https://zenodo.org/api/files/4e2fa077-5616-489c-b70f-3464b7f2ec44/MRI_Raw_datam.cfl   size: 3074.7 MB\n",
            "\n",
            "Checksum is correct. (ec2e8d5f885147873ce386d99dc90343)\n",
            "\n",
            "Link: https://zenodo.org/api/files/4e2fa077-5616-489c-b70f-3464b7f2ec44/MRI_Raw_datam.hdr   size: 0.0 MB\n",
            "\n",
            "Checksum is correct. (f2bf52eb84dd2bc8299c8f058306b765)\n",
            "\n",
            "Link: https://zenodo.org/api/files/4e2fa077-5616-489c-b70f-3464b7f2ec44/MRI_Raw_dcf2m.cfl   size: 384.3 MB\n",
            "\n",
            "Checksum is correct. (8de658fd47d671d0c2aa43b191920ea3)\n",
            "\n",
            "Link: https://zenodo.org/api/files/4e2fa077-5616-489c-b70f-3464b7f2ec44/MRI_Raw_dcf2m.hdr   size: 0.0 MB\n",
            "\n",
            "Checksum is correct. (e5b9482eb8bec83aa5ab3bd2a77a725c)\n",
            "\n",
            "Link: https://zenodo.org/api/files/4e2fa077-5616-489c-b70f-3464b7f2ec44/MRI_Raw_imoco.cfl   size: 188.3 MB\n",
            "\n",
            "Checksum is correct. (159ab4e01eca5fdf5a5882bf406d60a8)\n",
            "\n",
            "Link: https://zenodo.org/api/files/4e2fa077-5616-489c-b70f-3464b7f2ec44/MRI_Raw_imoco.hdr   size: 0.0 MB\n",
            "\n",
            "Checksum is correct. (3dd4add15fab2e5cf9828d63ca66337f)\n",
            "\n",
            "Link: https://zenodo.org/api/files/4e2fa077-5616-489c-b70f-3464b7f2ec44/MRI_Raw_trajm.cfl   size: 1153.0 MB\n",
            "\n",
            "Checksum is correct. (43f6821e1bfc82450266897670296b12)\n",
            "\n",
            "Link: https://zenodo.org/api/files/4e2fa077-5616-489c-b70f-3464b7f2ec44/MRI_Raw_trajm.hdr   size: 0.0 MB\n",
            "\n",
            "Checksum is correct. (e72dd67525d1169dc11919ad5afa9906)\n",
            "\n",
            "Link: https://zenodo.org/api/files/4e2fa077-5616-489c-b70f-3464b7f2ec44/readcfl.m   size: 0.0 MB\n",
            "\n",
            "Checksum is correct. (cd339c0ebb279f174e44026b05b0d1f2)\n",
            "\n",
            "Link: https://zenodo.org/api/files/4e2fa077-5616-489c-b70f-3464b7f2ec44/writecfl.m   size: 0.0 MB\n",
            "\n",
            "Checksum is correct. (00741deb8a416f79c6330ec8b95ce4a5)\n",
            "All files have been downloaded.\n"
          ],
          "name": "stdout"
        }
      ]
    },
    {
      "cell_type": "markdown",
      "metadata": {
        "id": "Q3UOypnejXgN",
        "colab_type": "text"
      },
      "source": [
        "# Crop Data (Optional)\n",
        "decrease number of frequency encoding points to adapt for Colab RAM"
      ]
    },
    {
      "cell_type": "code",
      "metadata": {
        "id": "YgQKP77Cdh_1",
        "colab_type": "code",
        "colab": {}
      },
      "source": [
        "num_ro = 200\n",
        "\n",
        "datam = cfl.read_cfl('./lung_mri/MRI_Raw_datam')\n",
        "datam = datam[:,:,:,:,:num_ro,:]\n",
        "cfl.write_cfl('./lung_mri/MRI_Raw_datam', datam)"
      ],
      "execution_count": 16,
      "outputs": []
    },
    {
      "cell_type": "code",
      "metadata": {
        "id": "GflI5joSej0M",
        "colab_type": "code",
        "colab": {}
      },
      "source": [
        "dcf2m = cfl.read_cfl('./lung_mri/MRI_Raw_dcf2m')\n",
        "dcf2m = dcf2m[:,:,:,:,:num_ro,:]\n",
        "cfl.write_cfl('./lung_mri/MRI_Raw_dcf2m', dcf2m)"
      ],
      "execution_count": 17,
      "outputs": []
    },
    {
      "cell_type": "code",
      "metadata": {
        "id": "2KJuLNcrexYz",
        "colab_type": "code",
        "colab": {}
      },
      "source": [
        "trajm = cfl.read_cfl('./lung_mri/MRI_Raw_trajm')\n",
        "trajm = trajm[:,:,:,:,:num_ro,:]\n",
        "cfl.write_cfl('./lung_mri/MRI_Raw_trajm', trajm)"
      ],
      "execution_count": 18,
      "outputs": []
    },
    {
      "cell_type": "code",
      "metadata": {
        "id": "S-WUQQJ2iTsN",
        "colab_type": "code",
        "colab": {}
      },
      "source": [
        "# release RAM\n",
        "del datam\n",
        "del dcf2m\n",
        "del trajm"
      ],
      "execution_count": 19,
      "outputs": []
    },
    {
      "cell_type": "markdown",
      "metadata": {
        "id": "XnZVUcLm2_kX",
        "colab_type": "text"
      },
      "source": [
        "# iMoCo Reconstruction\n",
        "\n",
        "## step 1. XD-GRASP, motion-resolved reconstruction \n",
        "## step 2. iMoCo reconstruction\n",
        "\n",
        "When running iMoCo for the first time, use flag --reg_flag 1, which generates the motion field needed for iMoCo reconstruction \n",
        "\n",
        "If the motion field exists already (e.g. from previous iMoco recon), no flag is needed"
      ]
    },
    {
      "cell_type": "code",
      "metadata": {
        "id": "bpJQxShIhivb",
        "colab_type": "code",
        "colab": {
          "base_uri": "https://localhost:8080/",
          "height": 374
        },
        "outputId": "e4266976-c203-4efb-ea47-7f9e1aca82c4"
      },
      "source": [
        "# xd-grasp recon\n",
        "!python imoco_recon/imoco_py/recon_xdgrasp.py ./lung_mri/MRI_Raw --device 0"
      ],
      "execution_count": 20,
      "outputs": [
        {
          "output_type": "stream",
          "text": [
            "JsenseRecon: 100% 10/10 [00:15<00:00,  1.52s/it]\n",
            "outer iter:0, res:1.0\n",
            "outer iter:1, res:0.6153555512428284\n",
            "outer iter:2, res:0.4152965843677521\n",
            "outer iter:3, res:0.2897503972053528\n",
            "outer iter:4, res:0.20213954150676727\n",
            "outer iter:5, res:0.13695521652698517\n",
            "outer iter:6, res:0.08666440844535828\n",
            "outer iter:7, res:0.04738427698612213\n",
            "outer iter:8, res:0.017541415989398956\n",
            "outer iter:9, res:0.010017949156463146\n",
            "outer iter:10, res:0.024471217766404152\n",
            "outer iter:11, res:0.03403307497501373\n",
            "outer iter:12, res:0.037935711443424225\n",
            "outer iter:13, res:0.03687838092446327\n",
            "outer iter:14, res:0.03199930116534233\n",
            "outer iter:15, res:0.024720804765820503\n",
            "outer iter:16, res:0.016543323174118996\n",
            "outer iter:17, res:0.008854111656546593\n",
            "outer iter:18, res:0.003330372041091323\n",
            "outer iter:19, res:0.004226641729474068\n"
          ],
          "name": "stdout"
        }
      ]
    },
    {
      "cell_type": "code",
      "metadata": {
        "id": "BPRB7njKExJv",
        "colab_type": "code",
        "colab": {
          "base_uri": "https://localhost:8080/",
          "height": 1000
        },
        "outputId": "3374223a-8405-41db-f04d-3f791f648cfa"
      },
      "source": [
        "# imoco recon with motion field derivation\n",
        "!python imoco_recon/imoco_py/recon_imoco.py ./lung_mri/MRI_Raw --reg_flag 1 --device 0"
      ],
      "execution_count": 21,
      "outputs": [
        {
          "output_type": "stream",
          "text": [
            "Calibration...\n",
            "JsenseRecon: 100% 10/10 [00:11<00:00,  1.16s/it]\n",
            "Registration...\n",
            "All_Command_lines_OK\n",
            "Using double precision for computations.\n",
            "  number of levels = 3\n",
            "  fixed image: tmp_Im.nii\n",
            "  moving image: tmp_If.nii\n",
            "Dimension = 3\n",
            "Number of stages = 1\n",
            "Use Histogram Matching true\n",
            "Winsorize image intensities true\n",
            "Lower quantile = 0.1\n",
            "Upper quantile = 1\n",
            "Stage 1 State\n",
            "   Image metric = Demons\n",
            "     Fixed image = Image (0x55729c496000)\n",
            "  RTTI typeinfo:   itk::Image<double, 3u>\n",
            "  Reference Count: 2\n",
            "  Modified Time: 722\n",
            "  Debug: Off\n",
            "  Object Name: \n",
            "  Observers: \n",
            "    none\n",
            "  Source: (none)\n",
            "  Source output name: (none)\n",
            "  Release Data: Off\n",
            "  Data Released: False\n",
            "  Global Release Data: Off\n",
            "  PipelineMTime: 0\n",
            "  UpdateMTime: 508\n",
            "  RealTimeStamp: 0 seconds \n",
            "  LargestPossibleRegion: \n",
            "    Dimension: 3\n",
            "    Index: [0, 0, 0]\n",
            "    Size: [140, 93, 95]\n",
            "  BufferedRegion: \n",
            "    Dimension: 3\n",
            "    Index: [0, 0, 0]\n",
            "    Size: [140, 93, 95]\n",
            "  RequestedRegion: \n",
            "    Dimension: 3\n",
            "    Index: [0, 0, 0]\n",
            "    Size: [140, 93, 95]\n",
            "  Spacing: [1, 1, 1]\n",
            "  Origin: [0, 0, 0]\n",
            "  Direction: \n",
            "-1 0 0\n",
            "0 -1 0\n",
            "0 0 1\n",
            "\n",
            "  IndexToPointMatrix: \n",
            "-1 0 0\n",
            "0 -1 0\n",
            "0 0 1\n",
            "\n",
            "  PointToIndexMatrix: \n",
            "-1 0 0\n",
            "0 -1 0\n",
            "0 0 1\n",
            "\n",
            "  Inverse Direction: \n",
            "-1 0 0\n",
            "0 -1 0\n",
            "0 0 1\n",
            "\n",
            "  PixelContainer: \n",
            "    ImportImageContainer (0x55729bf8f5d0)\n",
            "      RTTI typeinfo:   itk::ImportImageContainer<unsigned long, double>\n",
            "      Reference Count: 1\n",
            "      Modified Time: 505\n",
            "      Debug: Off\n",
            "      Object Name: \n",
            "      Observers: \n",
            "        none\n",
            "      Pointer: 0x55729c4ac000\n",
            "      Container manages memory: true\n",
            "      Size: 1236900\n",
            "      Capacity: 1236900\n",
            "\n",
            "     Moving image = Image (0x55729c4962c0)\n",
            "  RTTI typeinfo:   itk::Image<double, 3u>\n",
            "  Reference Count: 2\n",
            "  Modified Time: 723\n",
            "  Debug: Off\n",
            "  Object Name: \n",
            "  Observers: \n",
            "    none\n",
            "  Source: (none)\n",
            "  Source output name: (none)\n",
            "  Release Data: Off\n",
            "  Data Released: False\n",
            "  Global Release Data: Off\n",
            "  PipelineMTime: 0\n",
            "  UpdateMTime: 720\n",
            "  RealTimeStamp: 0 seconds \n",
            "  LargestPossibleRegion: \n",
            "    Dimension: 3\n",
            "    Index: [0, 0, 0]\n",
            "    Size: [140, 93, 95]\n",
            "  BufferedRegion: \n",
            "    Dimension: 3\n",
            "    Index: [0, 0, 0]\n",
            "    Size: [140, 93, 95]\n",
            "  RequestedRegion: \n",
            "    Dimension: 3\n",
            "    Index: [0, 0, 0]\n",
            "    Size: [140, 93, 95]\n",
            "  Spacing: [1, 1, 1]\n",
            "  Origin: [0, 0, 0]\n",
            "  Direction: \n",
            "-1 0 0\n",
            "0 -1 0\n",
            "0 0 1\n",
            "\n",
            "  IndexToPointMatrix: \n",
            "-1 0 0\n",
            "0 -1 0\n",
            "0 0 1\n",
            "\n",
            "  PointToIndexMatrix: \n",
            "-1 0 0\n",
            "0 -1 0\n",
            "0 0 1\n",
            "\n",
            "  Inverse Direction: \n",
            "-1 0 0\n",
            "0 -1 0\n",
            "0 0 1\n",
            "\n",
            "  PixelContainer: \n",
            "    ImportImageContainer (0x55729bf8fb80)\n",
            "      RTTI typeinfo:   itk::ImportImageContainer<unsigned long, double>\n",
            "      Reference Count: 1\n",
            "      Modified Time: 717\n",
            "      Debug: Off\n",
            "      Object Name: \n",
            "      Observers: \n",
            "        none\n",
            "      Pointer: 0x55729ce1c000\n",
            "      Container manages memory: true\n",
            "      Size: 1236900\n",
            "      Capacity: 1236900\n",
            "\n",
            "     Weighting = 1\n",
            "     Sampling strategy = none\n",
            "     Number of bins = 32\n",
            "     Radius = 4\n",
            "     Sampling percentage  = 1\n",
            "   Transform = SyN\n",
            "     Gradient step = 0.1\n",
            "     Update field sigma (voxel space) = 5\n",
            "     Total field sigma (voxel space) = 3\n",
            "     Update field time sigma = 0\n",
            "     Total field time sigma  = 0\n",
            "     Number of time indices = 0\n",
            "     Number of time point samples = 0\n",
            "Registration using 1 total stages.\n",
            "\n",
            "Stage 0\n",
            "  iterations = 100x100x40\n",
            "  convergence threshold = 1e-06\n",
            "  convergence window size = 10\n",
            "  number of levels = 3\n",
            "  using the Demons metric (weight = 1)\n",
            "  preprocessing:  winsorizing the image intensities\n",
            "  preprocessing:  histogram matching the images\n",
            "  Shrink factors (level 1 out of 3): [8, 8, 8]\n",
            "  Shrink factors (level 2 out of 3): [4, 4, 4]\n",
            "  Shrink factors (level 3 out of 3): [2, 2, 2]\n",
            "  smoothing sigmas per level: [2, 2, 1]\n",
            "  Using default NONE metricSamplingStrategy \n",
            "\n",
            "*** Running SyN registration (varianceForUpdateField = 5, varianceForTotalField = 3) ***\n",
            "\n",
            "XXDIAGNOSTIC,Iteration,metricValue,convergenceValue,ITERATION_TIME_INDEX,SINCE_LAST\n",
            " 1DIAGNOSTIC,     1, 2.887525842113e-06, 1.797693134862e+308, 1.5065e-01, 1.5065e-01, \n",
            " 1DIAGNOSTIC,     2, 1.733459650851e-06, 1.797693134862e+308, 1.8404e-01, 3.3386e-02, \n",
            " 1DIAGNOSTIC,     3, 4.565126680607e-06, 1.797693134862e+308, 2.2488e-01, 4.0842e-02, \n",
            " 1DIAGNOSTIC,     4, 1.047017105755e-05, 1.797693134862e+308, 2.5924e-01, 3.4357e-02, \n",
            " 1DIAGNOSTIC,     5, 1.095354356219e-05, 1.797693134862e+308, 2.9616e-01, 3.6925e-02, \n",
            " 1DIAGNOSTIC,     6, 1.392934704703e-05, 1.797693134862e+308, 3.2848e-01, 3.2314e-02, \n",
            " 1DIAGNOSTIC,     7, 1.569578373651e-05, 1.797693134862e+308, 3.6000e-01, 3.1523e-02, \n",
            " 1DIAGNOSTIC,     8, 9.271296525865e-06, 1.797693134862e+308, 3.9240e-01, 3.2396e-02, \n",
            " 1DIAGNOSTIC,     9, 1.342023042700e-05, 1.797693134862e+308, 4.2487e-01, 3.2471e-02, \n",
            " 1DIAGNOSTIC,    10, 1.226306465505e-05, -7.709497397857e-02, 4.5713e-01, 3.2260e-02, \n",
            "XXDIAGNOSTIC,Iteration,metricValue,convergenceValue,ITERATION_TIME_INDEX,SINCE_LAST\n",
            " 1DIAGNOSTIC,     1, 2.325351697206e-05, 1.797693134862e+308, 7.4666e-01, 2.8954e-01, \n",
            " 1DIAGNOSTIC,     2, 3.824859521975e-06, 1.797693134862e+308, 9.2144e-01, 1.7477e-01, \n",
            " 1DIAGNOSTIC,     3, 1.803948364349e-06, 1.797693134862e+308, 1.0979e+00, 1.7650e-01, \n",
            " 1DIAGNOSTIC,     4, 1.952695268031e-06, 1.797693134862e+308, 1.2806e+00, 1.8268e-01, \n",
            " 1DIAGNOSTIC,     5, 1.675157437822e-06, 1.797693134862e+308, 1.4524e+00, 1.7174e-01, \n",
            " 1DIAGNOSTIC,     6, 1.901330772273e-06, 1.797693134862e+308, 1.6322e+00, 1.7985e-01, \n",
            " 1DIAGNOSTIC,     7, 1.525842929810e-06, 1.797693134862e+308, 1.8167e+00, 1.8454e-01, \n",
            " 1DIAGNOSTIC,     8, 2.202874032874e-06, 1.797693134862e+308, 1.9902e+00, 1.7342e-01, \n",
            " 1DIAGNOSTIC,     9, 1.430790112579e-06, 1.797693134862e+308, 2.1637e+00, 1.7350e-01, \n",
            " 1DIAGNOSTIC,    10, 2.404812923046e-06, 1.545195118559e-01, 2.3457e+00, 1.8204e-01, \n",
            " 1DIAGNOSTIC,    11, 1.433833657150e-06, 1.341037784623e-02, 2.5203e+00, 1.7458e-01, \n",
            " 1DIAGNOSTIC,    12, 2.387316099208e-06, -3.320727245941e-03, 2.7030e+00, 1.8272e-01, \n",
            "XXDIAGNOSTIC,Iteration,metricValue,convergenceValue,ITERATION_TIME_INDEX,SINCE_LAST\n",
            " 1DIAGNOSTIC,     1, 3.178610770222e-06, 1.797693134862e+308, 3.8092e+00, 1.1062e+00, \n",
            " 1DIAGNOSTIC,     2, 1.312963083776e-06, 1.797693134862e+308, 4.7938e+00, 9.8457e-01, \n",
            " 1DIAGNOSTIC,     3, 9.121545099232e-07, 1.797693134862e+308, 5.7582e+00, 9.6443e-01, \n",
            " 1DIAGNOSTIC,     4, 8.638371824821e-07, 1.797693134862e+308, 6.7613e+00, 1.0031e+00, \n",
            " 1DIAGNOSTIC,     5, 8.387137253920e-07, 1.797693134862e+308, 7.7163e+00, 9.5502e-01, \n",
            " 1DIAGNOSTIC,     6, 8.204328439696e-07, 1.797693134862e+308, 8.6749e+00, 9.5863e-01, \n",
            " 1DIAGNOSTIC,     7, 8.105585819377e-07, 1.797693134862e+308, 9.6371e+00, 9.6215e-01, \n",
            " 1DIAGNOSTIC,     8, 8.044385942575e-07, 1.797693134862e+308, 1.0617e+01, 9.7953e-01, \n",
            " 1DIAGNOSTIC,     9, 8.014959999725e-07, 1.797693134862e+308, 1.1581e+01, 9.6462e-01, \n",
            " 1DIAGNOSTIC,    10, 7.972874820075e-07, 7.478782869043e-02, 1.2544e+01, 9.6231e-01, \n",
            " 1DIAGNOSTIC,    11, 7.946326900708e-07, 1.619249001479e-02, 1.3497e+01, 9.5347e-01, \n",
            " 1DIAGNOSTIC,    12, 7.951782294154e-07, 4.828556537217e-03, 1.4469e+01, 9.7229e-01, \n",
            " 1DIAGNOSTIC,    13, 7.944290067584e-07, 2.776943610228e-03, 1.5434e+01, 9.6467e-01, \n",
            " 1DIAGNOSTIC,    14, 7.945708633459e-07, 1.644248204859e-03, 1.6401e+01, 9.6662e-01, \n",
            " 1DIAGNOSTIC,    15, 7.919883031182e-07, 9.918817319194e-04, 1.7378e+01, 9.7704e-01, \n",
            " 1DIAGNOSTIC,    16, 7.950443114473e-07, 5.790614790092e-04, 1.8348e+01, 9.7018e-01, \n",
            " 1DIAGNOSTIC,    17, 7.929179229017e-07, 3.564138016900e-04, 1.9319e+01, 9.7127e-01, \n",
            " 1DIAGNOSTIC,    18, 7.954347496973e-07, 1.781391212827e-04, 2.0273e+01, 9.5368e-01, \n",
            " 1DIAGNOSTIC,    19, 7.953103646909e-07, 4.529479659762e-05, 2.1229e+01, 9.5643e-01, \n",
            " 1DIAGNOSTIC,    20, 7.946043786180e-07, -9.176623795890e-06, 2.2210e+01, 9.8122e-01, \n",
            "  Elapsed time (stage 0): 22.5402\n",
            "\n",
            "\n",
            "Total elapsed time: 22.5427\n",
            "All_Command_lines_OK\n",
            "Using double precision for computations.\n",
            "  number of levels = 3\n",
            "  fixed image: tmp_Im.nii\n",
            "  moving image: tmp_If.nii\n",
            "Dimension = 3\n",
            "Number of stages = 1\n",
            "Use Histogram Matching true\n",
            "Winsorize image intensities true\n",
            "Lower quantile = 0.1\n",
            "Upper quantile = 1\n",
            "Stage 1 State\n",
            "   Image metric = Demons\n",
            "     Fixed image = Image (0x55875ca58000)\n",
            "  RTTI typeinfo:   itk::Image<double, 3u>\n",
            "  Reference Count: 2\n",
            "  Modified Time: 722\n",
            "  Debug: Off\n",
            "  Object Name: \n",
            "  Observers: \n",
            "    none\n",
            "  Source: (none)\n",
            "  Source output name: (none)\n",
            "  Release Data: Off\n",
            "  Data Released: False\n",
            "  Global Release Data: Off\n",
            "  PipelineMTime: 0\n",
            "  UpdateMTime: 508\n",
            "  RealTimeStamp: 0 seconds \n",
            "  LargestPossibleRegion: \n",
            "    Dimension: 3\n",
            "    Index: [0, 0, 0]\n",
            "    Size: [140, 93, 95]\n",
            "  BufferedRegion: \n",
            "    Dimension: 3\n",
            "    Index: [0, 0, 0]\n",
            "    Size: [140, 93, 95]\n",
            "  RequestedRegion: \n",
            "    Dimension: 3\n",
            "    Index: [0, 0, 0]\n",
            "    Size: [140, 93, 95]\n",
            "  Spacing: [1, 1, 1]\n",
            "  Origin: [0, 0, 0]\n",
            "  Direction: \n",
            "-1 0 0\n",
            "0 -1 0\n",
            "0 0 1\n",
            "\n",
            "  IndexToPointMatrix: \n",
            "-1 0 0\n",
            "0 -1 0\n",
            "0 0 1\n",
            "\n",
            "  PointToIndexMatrix: \n",
            "-1 0 0\n",
            "0 -1 0\n",
            "0 0 1\n",
            "\n",
            "  Inverse Direction: \n",
            "-1 0 0\n",
            "0 -1 0\n",
            "0 0 1\n",
            "\n",
            "  PixelContainer: \n",
            "    ImportImageContainer (0x55875c5515d0)\n",
            "      RTTI typeinfo:   itk::ImportImageContainer<unsigned long, double>\n",
            "      Reference Count: 1\n",
            "      Modified Time: 505\n",
            "      Debug: Off\n",
            "      Object Name: \n",
            "      Observers: \n",
            "        none\n",
            "      Pointer: 0x55875ca6e000\n",
            "      Container manages memory: true\n",
            "      Size: 1236900\n",
            "      Capacity: 1236900\n",
            "\n",
            "     Moving image = Image (0x55875ca582c0)\n",
            "  RTTI typeinfo:   itk::Image<double, 3u>\n",
            "  Reference Count: 2\n",
            "  Modified Time: 723\n",
            "  Debug: Off\n",
            "  Object Name: \n",
            "  Observers: \n",
            "    none\n",
            "  Source: (none)\n",
            "  Source output name: (none)\n",
            "  Release Data: Off\n",
            "  Data Released: False\n",
            "  Global Release Data: Off\n",
            "  PipelineMTime: 0\n",
            "  UpdateMTime: 720\n",
            "  RealTimeStamp: 0 seconds \n",
            "  LargestPossibleRegion: \n",
            "    Dimension: 3\n",
            "    Index: [0, 0, 0]\n",
            "    Size: [140, 93, 95]\n",
            "  BufferedRegion: \n",
            "    Dimension: 3\n",
            "    Index: [0, 0, 0]\n",
            "    Size: [140, 93, 95]\n",
            "  RequestedRegion: \n",
            "    Dimension: 3\n",
            "    Index: [0, 0, 0]\n",
            "    Size: [140, 93, 95]\n",
            "  Spacing: [1, 1, 1]\n",
            "  Origin: [0, 0, 0]\n",
            "  Direction: \n",
            "-1 0 0\n",
            "0 -1 0\n",
            "0 0 1\n",
            "\n",
            "  IndexToPointMatrix: \n",
            "-1 0 0\n",
            "0 -1 0\n",
            "0 0 1\n",
            "\n",
            "  PointToIndexMatrix: \n",
            "-1 0 0\n",
            "0 -1 0\n",
            "0 0 1\n",
            "\n",
            "  Inverse Direction: \n",
            "-1 0 0\n",
            "0 -1 0\n",
            "0 0 1\n",
            "\n",
            "  PixelContainer: \n",
            "    ImportImageContainer (0x55875c551b80)\n",
            "      RTTI typeinfo:   itk::ImportImageContainer<unsigned long, double>\n",
            "      Reference Count: 1\n",
            "      Modified Time: 717\n",
            "      Debug: Off\n",
            "      Object Name: \n",
            "      Observers: \n",
            "        none\n",
            "      Pointer: 0x55875d3de000\n",
            "      Container manages memory: true\n",
            "      Size: 1236900\n",
            "      Capacity: 1236900\n",
            "\n",
            "     Weighting = 1\n",
            "     Sampling strategy = none\n",
            "     Number of bins = 32\n",
            "     Radius = 4\n",
            "     Sampling percentage  = 1\n",
            "   Transform = SyN\n",
            "     Gradient step = 0.1\n",
            "     Update field sigma (voxel space) = 5\n",
            "     Total field sigma (voxel space) = 3\n",
            "     Update field time sigma = 0\n",
            "     Total field time sigma  = 0\n",
            "     Number of time indices = 0\n",
            "     Number of time point samples = 0\n",
            "Registration using 1 total stages.\n",
            "\n",
            "Stage 0\n",
            "  iterations = 100x100x40\n",
            "  convergence threshold = 1e-06\n",
            "  convergence window size = 10\n",
            "  number of levels = 3\n",
            "  using the Demons metric (weight = 1)\n",
            "  preprocessing:  winsorizing the image intensities\n",
            "  preprocessing:  histogram matching the images\n",
            "  Shrink factors (level 1 out of 3): [8, 8, 8]\n",
            "  Shrink factors (level 2 out of 3): [4, 4, 4]\n",
            "  Shrink factors (level 3 out of 3): [2, 2, 2]\n",
            "  smoothing sigmas per level: [2, 2, 1]\n",
            "  Using default NONE metricSamplingStrategy \n",
            "\n",
            "*** Running SyN registration (varianceForUpdateField = 5, varianceForTotalField = 3) ***\n",
            "\n",
            "XXDIAGNOSTIC,Iteration,metricValue,convergenceValue,ITERATION_TIME_INDEX,SINCE_LAST\n",
            " 1DIAGNOSTIC,     1, 0.000000000000e+00, 1.797693134862e+308, 1.5095e-01, 1.5095e-01, \n",
            " 1DIAGNOSTIC,     2, 0.000000000000e+00, 1.797693134862e+308, 1.8308e-01, 3.2131e-02, \n",
            " 1DIAGNOSTIC,     3, 0.000000000000e+00, 1.797693134862e+308, 2.2032e-01, 3.7238e-02, \n",
            " 1DIAGNOSTIC,     4, 0.000000000000e+00, 1.797693134862e+308, 2.5131e-01, 3.0989e-02, \n",
            " 1DIAGNOSTIC,     5, 0.000000000000e+00, 1.797693134862e+308, 2.8433e-01, 3.3014e-02, \n",
            " 1DIAGNOSTIC,     6, 0.000000000000e+00, 1.797693134862e+308, 3.1793e-01, 3.3606e-02, \n",
            " 1DIAGNOSTIC,     7, 0.000000000000e+00, 1.797693134862e+308, 3.5039e-01, 3.2457e-02, \n",
            " 1DIAGNOSTIC,     8, 0.000000000000e+00, 1.797693134862e+308, 3.8306e-01, 3.2672e-02, \n",
            " 1DIAGNOSTIC,     9, 0.000000000000e+00, 1.797693134862e+308, 4.1583e-01, 3.2764e-02, \n",
            " 1DIAGNOSTIC,    10, 0.000000000000e+00, -0.000000000000e+00, 4.4704e-01, 3.1211e-02, \n",
            "XXDIAGNOSTIC,Iteration,metricValue,convergenceValue,ITERATION_TIME_INDEX,SINCE_LAST\n",
            " 1DIAGNOSTIC,     1, 0.000000000000e+00, 1.797693134862e+308, 7.2759e-01, 2.8055e-01, \n",
            " 1DIAGNOSTIC,     2, 0.000000000000e+00, 1.797693134862e+308, 9.0450e-01, 1.7691e-01, \n",
            " 1DIAGNOSTIC,     3, 0.000000000000e+00, 1.797693134862e+308, 1.0849e+00, 1.8039e-01, \n",
            " 1DIAGNOSTIC,     4, 0.000000000000e+00, 1.797693134862e+308, 1.2555e+00, 1.7061e-01, \n",
            " 1DIAGNOSTIC,     5, 0.000000000000e+00, 1.797693134862e+308, 1.4288e+00, 1.7330e-01, \n",
            " 1DIAGNOSTIC,     6, 0.000000000000e+00, 1.797693134862e+308, 1.6037e+00, 1.7489e-01, \n",
            " 1DIAGNOSTIC,     7, 0.000000000000e+00, 1.797693134862e+308, 1.7731e+00, 1.6937e-01, \n",
            " 1DIAGNOSTIC,     8, 0.000000000000e+00, 1.797693134862e+308, 1.9669e+00, 1.9388e-01, \n",
            " 1DIAGNOSTIC,     9, 0.000000000000e+00, 1.797693134862e+308, 2.1479e+00, 1.8093e-01, \n",
            " 1DIAGNOSTIC,    10, 0.000000000000e+00, -0.000000000000e+00, 2.3206e+00, 1.7272e-01, \n",
            "XXDIAGNOSTIC,Iteration,metricValue,convergenceValue,ITERATION_TIME_INDEX,SINCE_LAST\n",
            " 1DIAGNOSTIC,     1, 0.000000000000e+00, 1.797693134862e+308, 3.3989e+00, 1.0783e+00, \n",
            " 1DIAGNOSTIC,     2, 0.000000000000e+00, 1.797693134862e+308, 4.3410e+00, 9.4211e-01, \n",
            " 1DIAGNOSTIC,     3, 0.000000000000e+00, 1.797693134862e+308, 5.2703e+00, 9.2936e-01, \n",
            " 1DIAGNOSTIC,     4, 0.000000000000e+00, 1.797693134862e+308, 6.1999e+00, 9.2956e-01, \n",
            " 1DIAGNOSTIC,     5, 0.000000000000e+00, 1.797693134862e+308, 7.1452e+00, 9.4527e-01, \n",
            " 1DIAGNOSTIC,     6, 0.000000000000e+00, 1.797693134862e+308, 8.0753e+00, 9.3018e-01, \n",
            " 1DIAGNOSTIC,     7, 0.000000000000e+00, 1.797693134862e+308, 8.9998e+00, 9.2449e-01, \n",
            " 1DIAGNOSTIC,     8, 0.000000000000e+00, 1.797693134862e+308, 9.9293e+00, 9.2944e-01, \n",
            " 1DIAGNOSTIC,     9, 0.000000000000e+00, 1.797693134862e+308, 1.0848e+01, 9.1864e-01, \n",
            " 1DIAGNOSTIC,    10, 0.000000000000e+00, -0.000000000000e+00, 1.1781e+01, 9.3300e-01, \n",
            "  Elapsed time (stage 0): 12.0335\n",
            "\n",
            "\n",
            "Total elapsed time: 12.0346\n",
            "Motion Field scaling...\n",
            "Prep...\n",
            "Preconditioner calculation...\n",
            "TV dim:[3, 187, 124, 126]\n",
            "Recon...\n",
            "alpha:0.0025444072671234608\n",
            "outer iter:0, res:6.016482353210449\n",
            "outer iter:1, res:1.4748955965042114\n",
            "outer iter:2, res:0.6894619464874268\n",
            "outer iter:3, res:0.40070945024490356\n",
            "outer iter:4, res:0.24960081279277802\n",
            "outer iter:5, res:0.15603721141815186\n",
            "outer iter:6, res:0.0925200954079628\n",
            "outer iter:7, res:0.04735657572746277\n",
            "outer iter:8, res:0.015823498368263245\n",
            "outer iter:9, res:0.013372482731938362\n",
            "outer iter:10, res:0.028027648106217384\n",
            "outer iter:11, res:0.03749615699052811\n",
            "outer iter:12, res:0.04150688648223877\n",
            "outer iter:13, res:0.04076992720365524\n",
            "outer iter:14, res:0.03629593551158905\n",
            "outer iter:15, res:0.029362892732024193\n",
            "outer iter:16, res:0.021425435319542885\n",
            "outer iter:17, res:0.01399670634418726\n",
            "outer iter:18, res:0.008692552335560322\n",
            "outer iter:19, res:0.006999203469604254\n"
          ],
          "name": "stdout"
        }
      ]
    },
    {
      "cell_type": "markdown",
      "metadata": {
        "id": "MuYtR0YyNZ6n",
        "colab_type": "text"
      },
      "source": [
        "# Plot\n",
        "plot the motion-resolved image and the iMoCo reconstructed image"
      ]
    },
    {
      "cell_type": "code",
      "metadata": {
        "id": "oKxv2nOuC_Fy",
        "colab_type": "code",
        "colab": {
          "base_uri": "https://localhost:8080/",
          "height": 298
        },
        "outputId": "593191cc-c7c6-4df6-9ec6-e2612c98b708"
      },
      "source": [
        "# plot motion-resolved mrL image\n",
        "mrL = cfl.read_cfl('lung_mri/MRI_Raw_mrL')\n",
        "pl.ImagePlot(mrL, x = -3, y = -1)"
      ],
      "execution_count": 22,
      "outputs": [
        {
          "output_type": "display_data",
          "data": {
            "image/png": "[encoded data removed]",
            "text/plain": [
              "<Figure size 432x288 with 1 Axes>"
            ]
          },
          "metadata": {
            "tags": [],
            "needs_background": "light"
          }
        },
        {
          "output_type": "execute_result",
          "data": {
            "text/plain": [
              "<sigpy.plot.ImagePlot at 0x7ff54df28898>"
            ]
          },
          "metadata": {
            "tags": []
          },
          "execution_count": 22
        }
      ]
    },
    {
      "cell_type": "code",
      "metadata": {
        "id": "3vGpRXZ4_dj7",
        "colab_type": "code",
        "colab": {
          "base_uri": "https://localhost:8080/",
          "height": 298
        },
        "outputId": "89c4d752-38ae-4080-c39e-3c976c716c16"
      },
      "source": [
        "# plot iMoCo image\n",
        "imoco = cfl.read_cfl('lung_mri/MRI_Raw_imoco')\n",
        "pl.ImagePlot(imoco, x = -3, y = -1)"
      ],
      "execution_count": 23,
      "outputs": [
        {
          "output_type": "display_data",
          "data": {
            "image/png": "[encoded data removed]",
            "text/plain": [
              "<Figure size 432x288 with 1 Axes>"
            ]
          },
          "metadata": {
            "tags": [],
            "needs_background": "light"
          }
        },
        {
          "output_type": "execute_result",
          "data": {
            "text/plain": [
              "<sigpy.plot.ImagePlot at 0x7ff54df287f0>"
            ]
          },
          "metadata": {
            "tags": []
          },
          "execution_count": 23
        }
      ]
    },
    {
      "cell_type": "code",
      "metadata": {
        "id": "hjq7CRFEDIf2",
        "colab_type": "code",
        "colab": {}
      },
      "source": [
        ""
      ],
      "execution_count": null,
      "outputs": []
    }
  ]
}