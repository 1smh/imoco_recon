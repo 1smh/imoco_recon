{
  "nbformat": 4,
  "nbformat_minor": 0,
  "metadata": {
    "colab": {
      "name": "Untitled0.ipynb",
      "provenance": [],
      "include_colab_link": true
    },
    "kernelspec": {
      "name": "python3",
      "display_name": "Python 3"
    },
    "accelerator": "GPU"
  },
  "cells": [
    {
      "cell_type": "markdown",
      "metadata": {
        "id": "view-in-github",
        "colab_type": "text"
      },
      "source": [
        "<a href=\"https://colab.research.google.com/github/Phillistan16/imoco_recon/blob/colab_demo/colab-imoco-demo.ipynb\" target=\"_parent\"><img src=\"https://colab.research.google.com/assets/colab-badge.svg\" alt=\"Open In Colab\"/></a>"
      ]
    },
    {
      "cell_type": "markdown",
      "metadata": {
        "id": "REKipt04s_R_",
        "colab_type": "text"
      },
      "source": [
        "# iterative Motion Compensation (iMoCo) Reconstruction Demo\n",
        "This CoLab notebook is a demo of the iMoCo method\n",
        "https://onlinelibrary.wiley.com/doi/full/10.1002/mrm.27998\n",
        "https://github.com/PulmonaryMRI/imoco_recon\n"
      ]
    },
    {
      "cell_type": "markdown",
      "metadata": {
        "id": "YGOlMnLD8oxb",
        "colab_type": "text"
      },
      "source": [
        "# Setup\n",
        "\n",
        "<!-- By default, this colab notebook should have a GPU runtime environment. To check this, go to **Runtime > Change runtime type** and see if **GPU** is selected as **Hardware accelerator**. -->\n",
        "\n",
        "To setup, we will install [SigPy](http://sigpy.readthedocs.io), [ANTsPy](https://github.com/ANTsX/ANTsPy), and clone the iMoCo github repo."
      ]
    },
    {
      "cell_type": "code",
      "metadata": {
        "id": "qbJolU3s8_d6",
        "colab_type": "code",
        "colab": {}
      },
      "source": [
        "# install dependent packages sigpy, h5py, antspy\n",
        "!pip install sigpy h5py\n",
        "!pip install antspyx\n",
        "\n",
        "# clone imoco recon repo\n",
        "! git clone https://github.com/PulmonaryMRI/imoco_recon"
      ],
      "execution_count": null,
      "outputs": []
    },
    {
      "cell_type": "markdown",
      "metadata": {
        "id": "oi3yyTTi8oxn",
        "colab_type": "text"
      },
      "source": [
        "# Download dataset\n",
        "\n",
        "Now, let's download a sample Lung UTE dataset. The dataset is hosted on Zenodo: https://zenodo.org/record/3733776#.XoJlNC2ZPOQ.\n",
        "\n",
        "<!-- The `download_lung_dataset()` function will download the datasets if it cannot find them under `data/lung/`. It takes around 8 minutes to download the datasets. -->"
      ]
    },
    {
      "cell_type": "code",
      "metadata": {
        "id": "Mn1mqZ38YEPo",
        "colab_type": "code",
        "colab": {}
      },
      "source": [
        "!mkdir lung_mri\n",
        "!pip install zenodo-get\n",
        "!zenodo_get -d 10.5281/zenodo.3733775 -o ./lung_mri"
      ],
      "execution_count": null,
      "outputs": []
    },
    {
      "cell_type": "markdown",
      "metadata": {
        "id": "Q3UOypnejXgN",
        "colab_type": "text"
      },
      "source": [
        "# Crop Data (Optional)\n",
        "decrease number of frequency encoding points to adapt for Colab RAM"
      ]
    },
    {
      "cell_type": "code",
      "metadata": {
        "id": "YgQKP77Cdh_1",
        "colab_type": "code",
        "colab": {}
      },
      "source": [
        "import imoco_recon.imoco_py.sigpy_e.cfl as cfl\n",
        "import numpy as np\n",
        "num_ro = 100\n",
        "\n",
        "datam = cfl.read_cfl('./lung_mri/MRI_Raw_datam')\n",
        "datam = datam[:,:,:,:,:num_ro,:]\n",
        "cfl.write_cfl('./lung_mri/MRI_Raw_datam', datam)"
      ],
      "execution_count": 13,
      "outputs": []
    },
    {
      "cell_type": "code",
      "metadata": {
        "id": "GflI5joSej0M",
        "colab_type": "code",
        "colab": {}
      },
      "source": [
        "dcf2m = cfl.read_cfl('./lung_mri/MRI_Raw_dcf2m')\n",
        "dcf2m = dcf2m[:,:,:,:,:num_ro,:]\n",
        "cfl.write_cfl('./lung_mri/MRI_Raw_dcf2m', dcf2m)"
      ],
      "execution_count": 14,
      "outputs": []
    },
    {
      "cell_type": "code",
      "metadata": {
        "id": "2KJuLNcrexYz",
        "colab_type": "code",
        "colab": {}
      },
      "source": [
        "trajm = cfl.read_cfl('./lung_mri/MRI_Raw_trajm')\n",
        "trajm = trajm[:,:,:,:,:num_ro,:]\n",
        "cfl.write_cfl('./lung_mri/MRI_Raw_trajm', trajm)"
      ],
      "execution_count": 15,
      "outputs": []
    },
    {
      "cell_type": "code",
      "metadata": {
        "id": "S-WUQQJ2iTsN",
        "colab_type": "code",
        "colab": {}
      },
      "source": [
        "# release RAM\n",
        "del datam\n",
        "del dcf2m\n",
        "del trajm"
      ],
      "execution_count": 19,
      "outputs": []
    },
    {
      "cell_type": "markdown",
      "metadata": {
        "id": "XnZVUcLm2_kX",
        "colab_type": "text"
      },
      "source": [
        "# iMoCo Reconstruction\n",
        "step 1. XD-GRASP, motion-resolved reconstruction \\\n",
        "step 2. iMoCo reconstruction"
      ]
    },
    {
      "cell_type": "code",
      "metadata": {
        "id": "bpJQxShIhivb",
        "colab_type": "code",
        "colab": {
          "base_uri": "https://localhost:8080/",
          "height": 1000
        },
        "outputId": "92608bc0-c7eb-40a3-9afd-3ae89370469d"
      },
      "source": [
        "!python imoco_recon/imoco_py/recon_xdgrasp.py ./lung_mri/MRI_Raw --device 0"
      ],
      "execution_count": 16,
      "outputs": [
        {
          "output_type": "stream",
          "text": [
            "JsenseRecon: 100% 10/10 [00:09<00:00,  1.07it/s]\n",
            "Traceback (most recent call last):\n",
            "  File \"/usr/local/lib/python3.6/dist-packages/sigpy/linop.py\", line 95, in apply\n",
            "    output = self._apply(input)\n",
            "  File \"/usr/local/lib/python3.6/dist-packages/sigpy/linop.py\", line 1429, in _apply\n",
            "    oversamp=self.oversamp, width=self.width)\n",
            "  File \"/usr/local/lib/python3.6/dist-packages/sigpy/fourier.py\", line 129, in nufft\n",
            "    output, coord, kernel='kaiser_bessel', width=width, param=beta)\n",
            "  File \"/usr/local/lib/python3.6/dist-packages/sigpy/interp.py\", line 93, in interpolate\n",
            "    input, coord, width, param, output, size=npts)\n",
            "  File \"cupy/core/_kernel.pyx\", line 605, in cupy.core._kernel.ElementwiseKernel.__call__\n",
            "  File \"cupy/core/_kernel.pyx\", line 90, in cupy.core._kernel._preprocess_args\n",
            "TypeError: Unsupported type <class 'numpy.ndarray'>\n",
            "\n",
            "The above exception was the direct cause of the following exception:\n",
            "\n",
            "Traceback (most recent call last):\n",
            "  File \"/usr/local/lib/python3.6/dist-packages/sigpy/linop.py\", line 95, in apply\n",
            "    output = self._apply(input)\n",
            "  File \"/usr/local/lib/python3.6/dist-packages/sigpy/linop.py\", line 362, in _apply\n",
            "    output = linop(output)\n",
            "  File \"/usr/local/lib/python3.6/dist-packages/sigpy/linop.py\", line 122, in __call__\n",
            "    return self.__mul__(input)\n",
            "  File \"/usr/local/lib/python3.6/dist-packages/sigpy/linop.py\", line 131, in __mul__\n",
            "    return self.apply(input)\n",
            "  File \"/usr/local/lib/python3.6/dist-packages/sigpy/linop.py\", line 98, in apply\n",
            "    raise RuntimeError('Exceptions from {}.'.format(self)) from e\n",
            "RuntimeError: Exceptions from <[38514, 87]x[43, 28, 29]> NUFFT Linop>.\n",
            "\n",
            "The above exception was the direct cause of the following exception:\n",
            "\n",
            "Traceback (most recent call last):\n",
            "  File \"/usr/local/lib/python3.6/dist-packages/sigpy/linop.py\", line 95, in apply\n",
            "    output = self._apply(input)\n",
            "  File \"/usr/local/lib/python3.6/dist-packages/sigpy/linop.py\", line 610, in _apply\n",
            "    input[istart:iend].reshape(linop.ishape)).ravel()\n",
            "  File \"/usr/local/lib/python3.6/dist-packages/sigpy/linop.py\", line 122, in __call__\n",
            "    return self.__mul__(input)\n",
            "  File \"/usr/local/lib/python3.6/dist-packages/sigpy/linop.py\", line 131, in __mul__\n",
            "    return self.apply(input)\n",
            "  File \"/usr/local/lib/python3.6/dist-packages/sigpy/linop.py\", line 98, in apply\n",
            "    raise RuntimeError('Exceptions from {}.'.format(self)) from e\n",
            "RuntimeError: Exceptions from <[38514, 87]x[43, 28, 29]> ToDevice * NUFFT * ToDevice Linop>.\n",
            "\n",
            "The above exception was the direct cause of the following exception:\n",
            "\n",
            "Traceback (most recent call last):\n",
            "  File \"/usr/local/lib/python3.6/dist-packages/sigpy/linop.py\", line 95, in apply\n",
            "    output = self._apply(input)\n",
            "  File \"/usr/local/lib/python3.6/dist-packages/sigpy/linop.py\", line 362, in _apply\n",
            "    output = linop(output)\n",
            "  File \"/usr/local/lib/python3.6/dist-packages/sigpy/linop.py\", line 122, in __call__\n",
            "    return self.__mul__(input)\n",
            "  File \"/usr/local/lib/python3.6/dist-packages/sigpy/linop.py\", line 131, in __mul__\n",
            "    return self.apply(input)\n",
            "  File \"/usr/local/lib/python3.6/dist-packages/sigpy/linop.py\", line 98, in apply\n",
            "    raise RuntimeError('Exceptions from {}.'.format(self)) from e\n",
            "RuntimeError: Exceptions from <[26805744]x[279328]> Diag Linop>.\n",
            "\n",
            "The above exception was the direct cause of the following exception:\n",
            "\n",
            "Traceback (most recent call last):\n",
            "  File \"/usr/local/lib/python3.6/dist-packages/sigpy/linop.py\", line 95, in apply\n",
            "    output = self._apply(input)\n",
            "  File \"/usr/local/lib/python3.6/dist-packages/sigpy/linop.py\", line 610, in _apply\n",
            "    input[istart:iend].reshape(linop.ishape)).ravel()\n",
            "  File \"/usr/local/lib/python3.6/dist-packages/sigpy/linop.py\", line 122, in __call__\n",
            "    return self.__mul__(input)\n",
            "  File \"/usr/local/lib/python3.6/dist-packages/sigpy/linop.py\", line 131, in __mul__\n",
            "    return self.apply(input)\n",
            "  File \"/usr/local/lib/python3.6/dist-packages/sigpy/linop.py\", line 98, in apply\n",
            "    raise RuntimeError('Exceptions from {}.'.format(self)) from e\n",
            "RuntimeError: Exceptions from <[8, 38514, 87]x[43, 28, 29]> Multiply * Reshape * Diag * Reshape * Multiply Linop>.\n",
            "\n",
            "The above exception was the direct cause of the following exception:\n",
            "\n",
            "Traceback (most recent call last):\n",
            "  File \"/usr/local/lib/python3.6/dist-packages/sigpy/linop.py\", line 95, in apply\n",
            "    output = self._apply(input)\n",
            "  File \"/usr/local/lib/python3.6/dist-packages/sigpy/linop.py\", line 362, in _apply\n",
            "    output = linop(output)\n",
            "  File \"/usr/local/lib/python3.6/dist-packages/sigpy/linop.py\", line 122, in __call__\n",
            "    return self.__mul__(input)\n",
            "  File \"/usr/local/lib/python3.6/dist-packages/sigpy/linop.py\", line 131, in __mul__\n",
            "    return self.apply(input)\n",
            "  File \"/usr/local/lib/python3.6/dist-packages/sigpy/linop.py\", line 98, in apply\n",
            "    raise RuntimeError('Exceptions from {}.'.format(self)) from e\n",
            "RuntimeError: Exceptions from <[53611488]x[69832]> Diag Linop>.\n",
            "\n",
            "The above exception was the direct cause of the following exception:\n",
            "\n",
            "Traceback (most recent call last):\n",
            "  File \"imoco_recon/imoco_py/recon_xdgrasp.py\", line 87, in <module>\n",
            "    tmp = PFTSs.H*PFTSs*np.complex64(np.ones((nphase,)+tshape))\n",
            "  File \"/usr/local/lib/python3.6/dist-packages/sigpy/linop.py\", line 131, in __mul__\n",
            "    return self.apply(input)\n",
            "  File \"/usr/local/lib/python3.6/dist-packages/sigpy/linop.py\", line 98, in apply\n",
            "    raise RuntimeError('Exceptions from {}.'.format(self)) from e\n",
            "RuntimeError: Exceptions from <[2, 43, 28, 29]x[2, 43, 28, 29]> Reshape * Diag * Reshape * Reshape * Diag * Reshape Linop>.\n"
          ],
          "name": "stdout"
        }
      ]
    },
    {
      "cell_type": "code",
      "metadata": {
        "id": "BPRB7njKExJv",
        "colab_type": "code",
        "colab": {}
      },
      "source": [
        "!python imoco_recon/imoco_py/recon_imoco.py ./lung_mri/MRI_Raw --device 0"
      ],
      "execution_count": null,
      "outputs": []
    },
    {
      "cell_type": "markdown",
      "metadata": {
        "id": "MuYtR0YyNZ6n",
        "colab_type": "text"
      },
      "source": [
        "# Display Image\n"
      ]
    },
    {
      "cell_type": "code",
      "metadata": {
        "id": "QDm-heEENfg5",
        "colab_type": "code",
        "colab": {}
      },
      "source": [
        "import sigpy.plot as pl\n"
      ],
      "execution_count": null,
      "outputs": []
    }
  ]
}