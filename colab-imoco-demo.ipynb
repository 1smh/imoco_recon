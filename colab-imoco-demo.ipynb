{
  "nbformat": 4,
  "nbformat_minor": 0,
  "metadata": {
    "colab": {
      "name": "Untitled0.ipynb",
      "provenance": [],
      "include_colab_link": true
    },
    "kernelspec": {
      "name": "python3",
      "display_name": "Python 3"
    }
  },
  "cells": [
    {
      "cell_type": "markdown",
      "metadata": {
        "id": "view-in-github",
        "colab_type": "text"
      },
      "source": [
        "<a href=\"https://colab.research.google.com/github/Phillistan16/imoco_recon/blob/colab_demo/colab-imoco-demo.ipynb\" target=\"_parent\"><img src=\"https://colab.research.google.com/assets/colab-badge.svg\" alt=\"Open In Colab\"/></a>"
      ]
    },
    {
      "cell_type": "markdown",
      "metadata": {
        "id": "REKipt04s_R_",
        "colab_type": "text"
      },
      "source": [
        "# iterative Motion Compensation (iMoCo) Reconstruction Demo\n",
        "This CoLab notebook is a demo of the iMoCo method\n",
        "https://onlinelibrary.wiley.com/doi/full/10.1002/mrm.27998\n",
        "https://github.com/PulmonaryMRI/imoco_recon\n"
      ]
    },
    {
      "cell_type": "markdown",
      "metadata": {
        "id": "YGOlMnLD8oxb",
        "colab_type": "text"
      },
      "source": [
        "# Setup\n",
        "\n",
        "<!-- By default, this colab notebook should have a GPU runtime environment. To check this, go to **Runtime > Change runtime type** and see if **GPU** is selected as **Hardware accelerator**. -->\n",
        "\n",
        "To setup, we will install [SigPy](http://sigpy.readthedocs.io), ANTs, and clone the iMoCo github repo."
      ]
    },
    {
      "cell_type": "code",
      "metadata": {
        "id": "qbJolU3s8_d6",
        "colab_type": "code",
        "colab": {
          "base_uri": "https://localhost:8080/",
          "height": 1000
        },
        "outputId": "ed3d1397-a197-42a9-a8c2-da6d0f921422"
      },
      "source": [
        "# install dependent packages sigpy, h5py, antspy\n",
        "!pip install sigpy h5py\n",
        "!pip install antspyx\n",
        "! git clone https://github.com/PulmonaryMRI/imoco_recon\n",
        "\n",
        "# Need to install ANTs, or convert to ANTsPy\n",
        "\n",
        "% cd imoco_recon/imoco_py\n"
      ],
      "execution_count": 1,
      "outputs": [
        {
          "output_type": "stream",
          "text": [
            "Collecting sigpy\n",
            "\u001b[?25l  Downloading https://files.pythonhosted.org/packages/af/bf/364346092533636f478da5f853ed985225451b76a6dce4694dbd88843c5e/sigpy-0.1.20-py3-none-any.whl (130kB)\n",
            "\r\u001b[K     |██▌                             | 10kB 19.0MB/s eta 0:00:01\r\u001b[K     |█████                           | 20kB 1.7MB/s eta 0:00:01\r\u001b[K     |███████▌                        | 30kB 2.3MB/s eta 0:00:01\r\u001b[K     |██████████                      | 40kB 2.6MB/s eta 0:00:01\r\u001b[K     |████████████▌                   | 51kB 2.0MB/s eta 0:00:01\r\u001b[K     |███████████████                 | 61kB 2.3MB/s eta 0:00:01\r\u001b[K     |█████████████████▌              | 71kB 2.5MB/s eta 0:00:01\r\u001b[K     |████████████████████            | 81kB 2.8MB/s eta 0:00:01\r\u001b[K     |██████████████████████▌         | 92kB 2.9MB/s eta 0:00:01\r\u001b[K     |█████████████████████████       | 102kB 2.8MB/s eta 0:00:01\r\u001b[K     |███████████████████████████▌    | 112kB 2.8MB/s eta 0:00:01\r\u001b[K     |██████████████████████████████  | 122kB 2.8MB/s eta 0:00:01\r\u001b[K     |████████████████████████████████| 133kB 2.8MB/s \n",
            "\u001b[?25hRequirement already satisfied: h5py in /usr/local/lib/python3.6/dist-packages (2.10.0)\n",
            "Requirement already satisfied: numpy in /usr/local/lib/python3.6/dist-packages (from sigpy) (1.18.5)\n",
            "Requirement already satisfied: pywavelets in /usr/local/lib/python3.6/dist-packages (from sigpy) (1.1.1)\n",
            "Requirement already satisfied: tqdm in /usr/local/lib/python3.6/dist-packages (from sigpy) (4.41.1)\n",
            "Requirement already satisfied: scipy in /usr/local/lib/python3.6/dist-packages (from sigpy) (1.4.1)\n",
            "Requirement already satisfied: numba in /usr/local/lib/python3.6/dist-packages (from sigpy) (0.48.0)\n",
            "Requirement already satisfied: six in /usr/local/lib/python3.6/dist-packages (from h5py) (1.15.0)\n",
            "Requirement already satisfied: llvmlite<0.32.0,>=0.31.0dev0 in /usr/local/lib/python3.6/dist-packages (from numba->sigpy) (0.31.0)\n",
            "Requirement already satisfied: setuptools in /usr/local/lib/python3.6/dist-packages (from numba->sigpy) (49.6.0)\n",
            "Installing collected packages: sigpy\n",
            "Successfully installed sigpy-0.1.20\n",
            "Collecting antspyx\n",
            "\u001b[?25l  Downloading https://files.pythonhosted.org/packages/11/94/dc7774369183e1a875c06816680f4e56f9dac37087c2579dda641c13dd5e/antspyx-0.2.5-cp36-cp36m-manylinux2014_x86_64.whl (254.6MB)\n",
            "\u001b[K     |████████████████████████████████| 254.6MB 57kB/s \n",
            "\u001b[?25hRequirement already satisfied: sklearn in /usr/local/lib/python3.6/dist-packages (from antspyx) (0.0)\n",
            "Requirement already satisfied: scipy in /usr/local/lib/python3.6/dist-packages (from antspyx) (1.4.1)\n",
            "Requirement already satisfied: statsmodels in /usr/local/lib/python3.6/dist-packages (from antspyx) (0.10.2)\n",
            "Requirement already satisfied: pyyaml in /usr/local/lib/python3.6/dist-packages (from antspyx) (3.13)\n",
            "Requirement already satisfied: scikit-image in /usr/local/lib/python3.6/dist-packages (from antspyx) (0.16.2)\n",
            "Requirement already satisfied: pandas in /usr/local/lib/python3.6/dist-packages (from antspyx) (1.0.5)\n",
            "Requirement already satisfied: scikit-learn in /usr/local/lib/python3.6/dist-packages (from antspyx) (0.22.2.post1)\n",
            "Requirement already satisfied: nibabel in /usr/local/lib/python3.6/dist-packages (from antspyx) (3.0.2)\n",
            "Collecting webcolors\n",
            "  Downloading https://files.pythonhosted.org/packages/12/05/3350559de9714b202e443a9e6312937341bd5f79f4e4f625744295e7dd17/webcolors-1.11.1-py3-none-any.whl\n",
            "Requirement already satisfied: matplotlib in /usr/local/lib/python3.6/dist-packages (from antspyx) (3.2.2)\n",
            "Collecting chart-studio\n",
            "\u001b[?25l  Downloading https://files.pythonhosted.org/packages/ca/ce/330794a6b6ca4b9182c38fc69dd2a9cbff60fd49421cb8648ee5fee352dc/chart_studio-1.1.0-py3-none-any.whl (64kB)\n",
            "\u001b[K     |████████████████████████████████| 71kB 9.3MB/s \n",
            "\u001b[?25hRequirement already satisfied: Pillow in /usr/local/lib/python3.6/dist-packages (from antspyx) (7.0.0)\n",
            "Requirement already satisfied: numpy in /usr/local/lib/python3.6/dist-packages (from antspyx) (1.18.5)\n",
            "Requirement already satisfied: patsy>=0.4.0 in /usr/local/lib/python3.6/dist-packages (from statsmodels->antspyx) (0.5.1)\n",
            "Requirement already satisfied: networkx>=2.0 in /usr/local/lib/python3.6/dist-packages (from scikit-image->antspyx) (2.5)\n",
            "Requirement already satisfied: imageio>=2.3.0 in /usr/local/lib/python3.6/dist-packages (from scikit-image->antspyx) (2.4.1)\n",
            "Requirement already satisfied: PyWavelets>=0.4.0 in /usr/local/lib/python3.6/dist-packages (from scikit-image->antspyx) (1.1.1)\n",
            "Requirement already satisfied: python-dateutil>=2.6.1 in /usr/local/lib/python3.6/dist-packages (from pandas->antspyx) (2.8.1)\n",
            "Requirement already satisfied: pytz>=2017.2 in /usr/local/lib/python3.6/dist-packages (from pandas->antspyx) (2018.9)\n",
            "Requirement already satisfied: joblib>=0.11 in /usr/local/lib/python3.6/dist-packages (from scikit-learn->antspyx) (0.16.0)\n",
            "Requirement already satisfied: kiwisolver>=1.0.1 in /usr/local/lib/python3.6/dist-packages (from matplotlib->antspyx) (1.2.0)\n",
            "Requirement already satisfied: cycler>=0.10 in /usr/local/lib/python3.6/dist-packages (from matplotlib->antspyx) (0.10.0)\n",
            "Requirement already satisfied: pyparsing!=2.0.4,!=2.1.2,!=2.1.6,>=2.0.1 in /usr/local/lib/python3.6/dist-packages (from matplotlib->antspyx) (2.4.7)\n",
            "Requirement already satisfied: requests in /usr/local/lib/python3.6/dist-packages (from chart-studio->antspyx) (2.23.0)\n",
            "Requirement already satisfied: plotly in /usr/local/lib/python3.6/dist-packages (from chart-studio->antspyx) (4.4.1)\n",
            "Requirement already satisfied: six in /usr/local/lib/python3.6/dist-packages (from chart-studio->antspyx) (1.15.0)\n",
            "Requirement already satisfied: retrying>=1.3.3 in /usr/local/lib/python3.6/dist-packages (from chart-studio->antspyx) (1.3.3)\n",
            "Requirement already satisfied: decorator>=4.3.0 in /usr/local/lib/python3.6/dist-packages (from networkx>=2.0->scikit-image->antspyx) (4.4.2)\n",
            "Requirement already satisfied: certifi>=2017.4.17 in /usr/local/lib/python3.6/dist-packages (from requests->chart-studio->antspyx) (2020.6.20)\n",
            "Requirement already satisfied: idna<3,>=2.5 in /usr/local/lib/python3.6/dist-packages (from requests->chart-studio->antspyx) (2.10)\n",
            "Requirement already satisfied: chardet<4,>=3.0.2 in /usr/local/lib/python3.6/dist-packages (from requests->chart-studio->antspyx) (3.0.4)\n",
            "Requirement already satisfied: urllib3!=1.25.0,!=1.25.1,<1.26,>=1.21.1 in /usr/local/lib/python3.6/dist-packages (from requests->chart-studio->antspyx) (1.24.3)\n",
            "Installing collected packages: webcolors, chart-studio, antspyx\n",
            "Successfully installed antspyx-0.2.5 chart-studio-1.1.0 webcolors-1.11.1\n",
            "Cloning into 'imoco_recon'...\n",
            "remote: Enumerating objects: 126, done.\u001b[K\n",
            "remote: Counting objects: 100% (126/126), done.\u001b[K\n",
            "remote: Compressing objects: 100% (90/90), done.\u001b[K\n",
            "remote: Total 126 (delta 40), reused 108 (delta 30), pack-reused 0\u001b[K\n",
            "Receiving objects: 100% (126/126), 59.17 KiB | 338.00 KiB/s, done.\n",
            "Resolving deltas: 100% (40/40), done.\n",
            "/content/imoco_recon/imoco_py\n"
          ],
          "name": "stdout"
        }
      ]
    },
    {
      "cell_type": "markdown",
      "metadata": {
        "id": "oi3yyTTi8oxn",
        "colab_type": "text"
      },
      "source": [
        "# Download and Load dataset\n",
        "\n",
        "Now, let's download and load a sample Lung UTE dataset. The dataset is hosted on Zenodo: https://zenodo.org/record/3733776#.XoJlNC2ZPOQ.\n",
        "\n",
        "<!-- The `download_lung_dataset()` function will download the datasets if it cannot find them under `data/lung/`. It takes around 8 minutes to download the datasets. -->"
      ]
    }
  ]
}