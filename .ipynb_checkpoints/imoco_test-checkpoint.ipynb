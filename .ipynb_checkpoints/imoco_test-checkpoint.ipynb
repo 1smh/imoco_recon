{
 "cells": [
  {
   "cell_type": "code",
   "execution_count": 1,
   "id": "indirect-remainder",
   "metadata": {},
   "outputs": [],
   "source": [
    "# import packages\n",
    "import imoco_py.sigpy_e.cfl as cfl\n",
    "import numpy as np\n",
    "import sigpy.plot as pl"
   ]
  },
  {
   "cell_type": "code",
   "execution_count": 2,
   "id": "sacred-crack",
   "metadata": {},
   "outputs": [],
   "source": [
    "file_dir = '/data/larson4/UTE_Lung/2021-04-12_ped_patient/cfl/P09728/MRI_Raw'"
   ]
  },
  {
   "cell_type": "code",
   "execution_count": 3,
   "id": "informational-cradle",
   "metadata": {},
   "outputs": [],
   "source": [
    "datam = cfl.read_cfl(file_dir + '_datam')\n",
    "datam = datam[:,:,:,:,:500,:]\n",
    "cfl.write_cfl(file_dir + '_datam', datam)\n",
    "\n",
    "dcf2m = cfl.read_cfl(file_dir + '_dcf2m')\n",
    "dcf2m = dcf2m[:,:,:,:,:500,:]\n",
    "cfl.write_cfl(file_dir + '_dcf2m', dcf2m)\n",
    "\n",
    "trajm = cfl.read_cfl(file_dir + '_trajm')\n",
    "trajm = trajm[:,:,:,:,:500,:]\n",
    "cfl.write_cfl(file_dir + '_trajm', trajm)"
   ]
  },
  {
   "cell_type": "code",
   "execution_count": 4,
   "id": "taken-cigarette",
   "metadata": {},
   "outputs": [
    {
     "data": {
      "text/plain": [
       "(6, 1, 10, 13186, 500, 1)"
      ]
     },
     "execution_count": 4,
     "metadata": {},
     "output_type": "execute_result"
    }
   ],
   "source": [
    "np.shape(datam)"
   ]
  },
  {
   "cell_type": "code",
   "execution_count": 4,
   "id": "august-midwest",
   "metadata": {},
   "outputs": [
    {
     "name": "stdout",
     "output_type": "stream",
     "text": [
      "Traceback (most recent call last):\r\n",
      "  File \"imoco_py/recon_xdgrasp.py\", line 73, in <module>\r\n",
      "    mps = ext.jsens_calib(ksp,coord,dcf2,device = sp.Device(0),ishape = tshape)\r\n",
      "  File \"/working/larson2/ftan/anaconda3/lib/python3.6/site-packages/sigpy/backend.py\", line 63, in __init__\r\n",
      "    'cupy not installed, but set device {}.'.format(id))\r\n",
      "ValueError: cupy not installed, but set device 0.\r\n"
     ]
    }
   ],
   "source": [
    "# xd-grasp recon\n",
    "!python imoco_py/recon_xdgrasp.py {file_dir} --device 0"
   ]
  },
  {
   "cell_type": "code",
   "execution_count": 5,
   "id": "pursuant-outreach",
   "metadata": {},
   "outputs": [
    {
     "name": "stdout",
     "output_type": "stream",
     "text": [
      "Calibration...\n",
      "Traceback (most recent call last):\n",
      "  File \"imoco_py/recon_imoco.py\", line 87, in <module>\n",
      "    mps = ext.jsens_calib(ksp,coord,dcf2,device = sp.Device(device),ishape = tshape)\n",
      "  File \"/working/larson2/ftan/anaconda3/lib/python3.6/site-packages/sigpy/backend.py\", line 63, in __init__\n",
      "    'cupy not installed, but set device {}.'.format(id))\n",
      "ValueError: cupy not installed, but set device 0.\n"
     ]
    }
   ],
   "source": [
    "# imoco recon with motion field derivation\n",
    "!python imoco_py/recon_imoco.py {file_dir} --reg_flag 1 --device 0"
   ]
  },
  {
   "cell_type": "code",
   "execution_count": null,
   "id": "disabled-chess",
   "metadata": {},
   "outputs": [],
   "source": [
    "# plot motion-resolved mrL image\n",
    "mrL = cfl.read_cfl(file_dir + '_mrL')\n",
    "pl.ImagePlot(mrL, x = -3, y = -1)"
   ]
  },
  {
   "cell_type": "code",
   "execution_count": null,
   "id": "identical-calvin",
   "metadata": {},
   "outputs": [],
   "source": [
    "# plot iMoCo image\n",
    "imoco = cfl.read_cfl(file_dir + '_imoco')\n",
    "pl.ImagePlot(imoco, x = -3, y = -1)"
   ]
  }
 ],
 "metadata": {
  "kernelspec": {
   "display_name": "Python 3",
   "language": "python",
   "name": "python3"
  },
  "language_info": {
   "codemirror_mode": {
    "name": "ipython",
    "version": 3
   },
   "file_extension": ".py",
   "mimetype": "text/x-python",
   "name": "python",
   "nbconvert_exporter": "python",
   "pygments_lexer": "ipython3",
   "version": "3.6.9"
  }
 },
 "nbformat": 4,
 "nbformat_minor": 5
}
